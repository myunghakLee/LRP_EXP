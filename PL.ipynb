{
 "cells": [
  {
   "cell_type": "code",
   "execution_count": 2,
   "id": "30ce3a69",
   "metadata": {
    "ExecuteTime": {
     "end_time": "2022-01-19T02:45:12.708590Z",
     "start_time": "2022-01-19T02:45:12.703960Z"
    }
   },
   "outputs": [],
   "source": [
    "# !pip install torch==1.8.0+cu111 torchvision==0.9.0+cu111 torchaudio==0.8.0 -f https://download.pytorch.org/whl/torch_stable.html\n",
    "\n"
   ]
  },
  {
   "cell_type": "code",
   "execution_count": 27,
   "id": "c89ae0ff",
   "metadata": {
    "ExecuteTime": {
     "end_time": "2022-01-17T12:16:36.749131Z",
     "start_time": "2022-01-17T12:16:36.745678Z"
    }
   },
   "outputs": [],
   "source": [
    "# !pip uninstall torchtext -y"
   ]
  },
  {
   "cell_type": "code",
   "execution_count": 3,
   "id": "00dc7714",
   "metadata": {
    "ExecuteTime": {
     "end_time": "2022-01-17T13:04:40.966761Z",
     "start_time": "2022-01-17T13:04:40.807741Z"
    }
   },
   "outputs": [],
   "source": [
    "import torchvision\n",
    "import torchvision.transforms as transforms\n",
    "batch_size = 128\n",
    "dataset = torchvision.datasets.MNIST('', train=True, download=True, transform=transforms.ToTensor())\n",
    "test_dataset = torchvision.datasets.MNIST('', train=False, download=True, transform=transforms.ToTensor())\n",
    "train_dataset = torchvision.datasets.MNIST('', train=True, download=True, transform=transforms.ToTensor())\n",
    "val_dataset = torchvision.datasets.MNIST('', train=True, download=True, transform=transforms.ToTensor())\n",
    "\n",
    "train_loader = torch.utils.data.DataLoader(train_dataset, batch_size=batch_size)\n",
    "val_loader =torch.utils.data.DataLoader(val_dataset, batch_size=batch_size)\n",
    "test_loader = torch.utils.data.DataLoader(test_dataset, batch_size=batch_size)\n"
   ]
  },
  {
   "cell_type": "code",
   "execution_count": 1,
   "id": "ecf2c3ba",
   "metadata": {
    "ExecuteTime": {
     "end_time": "2022-01-18T12:57:07.227531Z",
     "start_time": "2022-01-18T12:57:04.273269Z"
    },
    "code_folding": [
     42,
     52
    ]
   },
   "outputs": [
    {
     "data": {
      "text/plain": [
       "10"
      ]
     },
     "execution_count": 1,
     "metadata": {},
     "output_type": "execute_result"
    }
   ],
   "source": [
    "import torch\n",
    "import pytorch_lightning as pl\n",
    "import torch.optim as optim\n",
    "import torch.nn.functional as F\n",
    "\n",
    "class Classifier(pl.LightningModule):\n",
    "    def __init__(self):\n",
    "        super().__init__()\n",
    "        self.model = nn.Sequential(\n",
    "            nn.Flatten(),\n",
    "            nn.Linear(28 * 28, 64),\n",
    "            nn.BatchNorm1d(64),\n",
    "            nn.ReLU(inplace=True),\n",
    "            nn.Linear(64, 64),\n",
    "            nn.BatchNorm1d(64),\n",
    "            nn.ReLU(inplace=True),\n",
    "            nn.Linear(64, 10)\n",
    "        )\n",
    "    \n",
    "        self.optimzer = optim.SGD(self.parameters(), lr=0.001, momentum=0.9)\n",
    "    def forward(self, x):\n",
    "        return self.model(x)\n",
    "\n",
    "    def training_step(self, batch, batch_idx):\n",
    "        x, y = batch\n",
    "#         print(\"get data\")\n",
    "#         self.optimzer.zero_grad()\n",
    "        \n",
    "#         print(\"AAAAAAAAAAAA\")\n",
    "#         print(\"model start\")\n",
    "        logits = self(x)\n",
    "#         print(\"model end\")\n",
    "#         print(self.model[1].weight.grad)\n",
    "#         print(\"calc_loss\")\n",
    "        loss = F.cross_entropy(logits, y)\n",
    "#         print(\"calc_loss finish\")\n",
    "#         self.backward()\n",
    "#         print(loss)\n",
    "        loss.backward()\n",
    "#         self.optimzer.step()\n",
    "#         print(self.model[1].weight.grad)\n",
    "#         print(torch.sum(self.model[1].weight.grad))\n",
    "#         print(self.model[1].weight)\n",
    "#         print(torch.sum(self.model[1].weight.grad))\n",
    "#         assert False, \"DD\"\n",
    "        return loss\n",
    "    \n",
    "    def validation_step(self, batch, batch_idx):\n",
    "#         print(\"validation_step\")\n",
    "        x, y = batch\n",
    "        logits = self(x)\n",
    "#         acc = FM.accuracy(logits, y)\n",
    "        loss = F.cross_entropy(logits, y)\n",
    "        x, y = batch\n",
    "        logits = self(x)\n",
    "        loss = F.cross_entropy(logits, y)\n",
    "        rank = torch.argmax(logits, dim=1)\n",
    "#         print(rank)\n",
    "#         print(torch.sum(rank==y))\n",
    "#         print(logits)\n",
    "        acc = torch.sum(rank==y)/len(rank)\n",
    "#         result = pl.EvalResult(checkpoint_on=loss)\n",
    "#         result.log('acc', acc)\n",
    "#         print(acc)\n",
    "        return acc\n",
    "#         self.log_dict(metrics)\n",
    "    \n",
    "    def validation_epoch_end(self, outputs):\n",
    "        all_preds = torch.stack(outputs)\n",
    "        print(torch.mean(all_preds))\n",
    "        return torch.mean(all_preds)\n",
    "#         for d in outputs:\n",
    "#             print(d)\n",
    "\n",
    "    def test_step(self, batch, batch_idx):\n",
    "        x, y = batch\n",
    "        logits = self(x)\n",
    "        acc = FM.accuracy(logits, y)\n",
    "        loss = F.cross_entropy(logits, y)\n",
    "        metrics = {'test_acc': acc, 'test_loss': loss}\n",
    "        self.log_dict(metrics)\n",
    "    \n",
    "    def configure_optimizers(self):\n",
    "        print(\"confingure optimzers\")\n",
    "        optimizer = optim.SGD(self.parameters(), lr=0.001, momentum=0.9)\n",
    "        return optimizer\n",
    "    \n",
    "#     def optimizer_step(self, epoch, batch_idx,\n",
    "#                             optimizer, optimizer_idx,\n",
    "#                             second_order_closure,\n",
    "#                             on_tpu, using_native_amp, using_lbfgs):\n",
    "#         optimizer.step()\n",
    "\n",
    "\n",
    "    def backward(self, trainer, loss, optimizer, optimizer_idx):\n",
    "        pass\n",
    "#         print(torch.sum(self.model[1].weight.grad))\n",
    "\n",
    "pl.seed_everything(10)\n",
    "    "
   ]
  },
  {
   "cell_type": "code",
   "execution_count": 41,
   "id": "88b55608",
   "metadata": {
    "ExecuteTime": {
     "end_time": "2022-01-17T13:15:29.862609Z",
     "start_time": "2022-01-17T13:14:51.144215Z"
    },
    "scrolled": true
   },
   "outputs": [
    {
     "name": "stderr",
     "output_type": "stream",
     "text": [
      "GPU available: True, used: True\n",
      "TPU available: False, using: 0 TPU cores\n",
      "CUDA_VISIBLE_DEVICES: [0]\n",
      "\n",
      "  | Name  | Type       | Params\n",
      "-------------------------------------\n",
      "0 | model | Sequential | 55 K  \n"
     ]
    },
    {
     "name": "stdout",
     "output_type": "stream",
     "text": [
      "confingure optimzers\n"
     ]
    },
    {
     "data": {
      "application/vnd.jupyter.widget-view+json": {
       "model_id": "",
       "version_major": 2,
       "version_minor": 0
      },
      "text/plain": [
       "Validation sanity check: 0it [00:00, ?it/s]"
      ]
     },
     "metadata": {},
     "output_type": "display_data"
    },
    {
     "name": "stdout",
     "output_type": "stream",
     "text": [
      "tensor(0.0781, device='cuda:0')\n"
     ]
    },
    {
     "data": {
      "application/vnd.jupyter.widget-view+json": {
       "model_id": "e0604fb1d0cb414598044212684b024d",
       "version_major": 2,
       "version_minor": 0
      },
      "text/plain": [
       "Training: 0it [00:00, ?it/s]"
      ]
     },
     "metadata": {},
     "output_type": "display_data"
    },
    {
     "data": {
      "application/vnd.jupyter.widget-view+json": {
       "model_id": "",
       "version_major": 2,
       "version_minor": 0
      },
      "text/plain": [
       "Validating: 0it [00:00, ?it/s]"
      ]
     },
     "metadata": {},
     "output_type": "display_data"
    },
    {
     "name": "stdout",
     "output_type": "stream",
     "text": [
      "tensor(0.9097, device='cuda:0')\n"
     ]
    },
    {
     "data": {
      "application/vnd.jupyter.widget-view+json": {
       "model_id": "",
       "version_major": 2,
       "version_minor": 0
      },
      "text/plain": [
       "Validating: 0it [00:00, ?it/s]"
      ]
     },
     "metadata": {},
     "output_type": "display_data"
    },
    {
     "name": "stdout",
     "output_type": "stream",
     "text": [
      "tensor(0.9350, device='cuda:0')\n"
     ]
    },
    {
     "data": {
      "application/vnd.jupyter.widget-view+json": {
       "model_id": "",
       "version_major": 2,
       "version_minor": 0
      },
      "text/plain": [
       "Validating: 0it [00:00, ?it/s]"
      ]
     },
     "metadata": {},
     "output_type": "display_data"
    },
    {
     "name": "stdout",
     "output_type": "stream",
     "text": [
      "tensor(0.9481, device='cuda:0')\n"
     ]
    },
    {
     "data": {
      "application/vnd.jupyter.widget-view+json": {
       "model_id": "",
       "version_major": 2,
       "version_minor": 0
      },
      "text/plain": [
       "Validating: 0it [00:00, ?it/s]"
      ]
     },
     "metadata": {},
     "output_type": "display_data"
    },
    {
     "name": "stdout",
     "output_type": "stream",
     "text": [
      "tensor(0.9564, device='cuda:0')\n"
     ]
    },
    {
     "data": {
      "application/vnd.jupyter.widget-view+json": {
       "model_id": "",
       "version_major": 2,
       "version_minor": 0
      },
      "text/plain": [
       "Validating: 0it [00:00, ?it/s]"
      ]
     },
     "metadata": {},
     "output_type": "display_data"
    },
    {
     "name": "stderr",
     "output_type": "stream",
     "text": [
      "Saving latest checkpoint..\n"
     ]
    },
    {
     "name": "stdout",
     "output_type": "stream",
     "text": [
      "tensor(0.9625, device='cuda:0')\n"
     ]
    },
    {
     "data": {
      "text/plain": [
       "1"
      ]
     },
     "execution_count": 41,
     "metadata": {},
     "output_type": "execute_result"
    }
   ],
   "source": [
    "import torch.nn as nn\n",
    "\n",
    "model = Classifier()\n",
    "\n",
    "# training\n",
    "trainer = pl.Trainer(max_epochs=5, gpus=1)\n",
    "trainer.fit(model, train_loader, val_loader)\n"
   ]
  },
  {
   "cell_type": "code",
   "execution_count": 142,
   "id": "25e05a55",
   "metadata": {
    "ExecuteTime": {
     "end_time": "2022-01-17T13:00:23.646642Z",
     "start_time": "2022-01-17T13:00:23.638682Z"
    }
   },
   "outputs": [
    {
     "data": {
      "text/plain": [
       "tensor([1, 0])"
      ]
     },
     "execution_count": 142,
     "metadata": {},
     "output_type": "execute_result"
    }
   ],
   "source": [
    "A = torch.tensor([[1,22,3,4],[11,2,3,4]])\n",
    "torch.argmax(A, dim=1)"
   ]
  },
  {
   "cell_type": "code",
   "execution_count": null,
   "id": "02eeee56",
   "metadata": {},
   "outputs": [],
   "source": []
  },
  {
   "cell_type": "code",
   "execution_count": null,
   "id": "bfa62ca9",
   "metadata": {},
   "outputs": [],
   "source": []
  }
 ],
 "metadata": {
  "kernelspec": {
   "display_name": "Python 3",
   "language": "python",
   "name": "python3"
  },
  "language_info": {
   "codemirror_mode": {
    "name": "ipython",
    "version": 3
   },
   "file_extension": ".py",
   "mimetype": "text/x-python",
   "name": "python",
   "nbconvert_exporter": "python",
   "pygments_lexer": "ipython3",
   "version": "3.8.10"
  },
  "toc": {
   "base_numbering": 1,
   "nav_menu": {},
   "number_sections": false,
   "sideBar": true,
   "skip_h1_title": false,
   "title_cell": "Table of Contents",
   "title_sidebar": "Contents",
   "toc_cell": false,
   "toc_position": {},
   "toc_section_display": true,
   "toc_window_display": false
  }
 },
 "nbformat": 4,
 "nbformat_minor": 5
}
