{
 "cells": [
  {
   "cell_type": "code",
   "execution_count": 1,
   "id": "655d3ea8",
   "metadata": {
    "ExecuteTime": {
     "end_time": "2022-03-04T11:26:52.180724Z",
     "start_time": "2022-03-04T11:26:52.176517Z"
    }
   },
   "outputs": [],
   "source": [
    "import os\n",
    "os.environ[\"CUDA_VISIBLE_DEVICES\"]=\"1\"\n",
    "\n"
   ]
  },
  {
   "cell_type": "code",
   "execution_count": 2,
   "id": "14136029",
   "metadata": {
    "ExecuteTime": {
     "end_time": "2022-03-04T11:26:53.554491Z",
     "start_time": "2022-03-04T11:26:52.432039Z"
    }
   },
   "outputs": [
    {
     "name": "stdout",
     "output_type": "stream",
     "text": [
      "cuda\n"
     ]
    }
   ],
   "source": [
    "import torch\n",
    "import torch.nn as nn\n",
    "import torch.nn.functional as F\n",
    "import torchvision\n",
    "import torchvision.transforms as transforms\n",
    "from torchvision import models\n",
    "import numpy as np\n",
    "import pandas as pd\n",
    "import matplotlib.pyplot as plt\n",
    "import seaborn as sns\n",
    "device = torch.device(\"cuda\" if torch.cuda.is_available() else \"cpu\")\n",
    "print(device)\n",
    "num_epochs = 50\n",
    "batch_size = 40\n",
    "learning_rate = 0.001"
   ]
  },
  {
   "cell_type": "code",
   "execution_count": 3,
   "id": "30e6d915",
   "metadata": {
    "ExecuteTime": {
     "end_time": "2022-03-04T11:26:55.182286Z",
     "start_time": "2022-03-04T11:26:53.556250Z"
    }
   },
   "outputs": [
    {
     "name": "stdout",
     "output_type": "stream",
     "text": [
      "Files already downloaded and verified\n",
      "Files already downloaded and verified\n"
     ]
    }
   ],
   "source": [
    "transform = transforms.Compose([\n",
    "    transforms.Resize(size=(224, 224)),\n",
    "    transforms.ToTensor(),\n",
    "    transforms.Normalize( \n",
    "       (0.4914, 0.4822, 0.4465), (0.2023, 0.1994, 0.2010) \n",
    "    )\n",
    "])\n",
    "train_dataset = torchvision.datasets.CIFAR100(\n",
    "    root= './data', train = True,\n",
    "    download =True, transform = transform)\n",
    "test_dataset = torchvision.datasets.CIFAR100(\n",
    "    root= './data', train = False,\n",
    "    download =True, transform = transform)\n"
   ]
  },
  {
   "cell_type": "code",
   "execution_count": 4,
   "id": "f18f2aa7",
   "metadata": {
    "ExecuteTime": {
     "end_time": "2022-03-04T11:26:55.188940Z",
     "start_time": "2022-03-04T11:26:55.184368Z"
    }
   },
   "outputs": [
    {
     "name": "stdout",
     "output_type": "stream",
     "text": [
      "1250\n"
     ]
    }
   ],
   "source": [
    "train_loader = torch.utils.data.DataLoader(train_dataset\n",
    "    , batch_size = batch_size\n",
    "    , shuffle = True)\n",
    "test_loader = torch.utils.data.DataLoader(test_dataset\n",
    "    , batch_size = batch_size\n",
    "    , shuffle = True)\n",
    "n_total_step = len(train_loader)\n",
    "print(n_total_step)\n"
   ]
  },
  {
   "cell_type": "code",
   "execution_count": 5,
   "id": "924f1d99",
   "metadata": {
    "ExecuteTime": {
     "end_time": "2022-03-04T11:27:00.656035Z",
     "start_time": "2022-03-04T11:26:55.190350Z"
    }
   },
   "outputs": [],
   "source": [
    "model = models.vgg16(pretrained = False)\n",
    "input_lastLayer = model.classifier[6].in_features\n",
    "model.classifier[6] = nn.Linear(input_lastLayer,100)\n",
    "model = model.to(device)\n",
    "criterion = nn.CrossEntropyLoss()\n",
    "optimizer = torch.optim.SGD(model.parameters(), lr = learning_rate, momentum=0.9,weight_decay=5e-4)\n"
   ]
  },
  {
   "cell_type": "code",
   "execution_count": 6,
   "id": "31d7e1f4",
   "metadata": {
    "ExecuteTime": {
     "end_time": "2022-03-04T11:27:00.661716Z",
     "start_time": "2022-03-04T11:27:00.658198Z"
    }
   },
   "outputs": [],
   "source": [
    "import datetime\n",
    "import time\n",
    "now = time.localtime()\n",
    "now = \"%04d/%02d/%02d %02d:%02d:%02d\" % (now.tm_year, now.tm_mon, now.tm_mday, now.tm_hour, now.tm_min, now.tm_sec)\n",
    "now = now.replace(\":\", \"_\").replace(\"/\", \"_\")\n",
    "f = open(\"results/\" +now + \".txt\", \"w\")"
   ]
  },
  {
   "cell_type": "code",
   "execution_count": 7,
   "id": "5e5366de",
   "metadata": {
    "ExecuteTime": {
     "end_time": "2022-03-04T11:32:33.187943Z",
     "start_time": "2022-03-04T11:27:00.663016Z"
    },
    "scrolled": false
   },
   "outputs": [
    {
     "name": "stdout",
     "output_type": "stream",
     "text": [
      "epoch 1/50, step: 250/1250: loss = 4.62844, acc = 1.14%\n",
      "epoch 1/50, step: 500/1250: loss = 4.44371, acc = 1.45%\n",
      "epoch 1/50, step: 750/1250: loss = 4.30089, acc = 2.17%\n",
      "epoch 1/50, step: 1000/1250: loss = 4.04638, acc = 3.02%\n",
      "epoch 1/50, step: 1250/1250: loss = 4.11289, acc = 3.72%\n",
      "Overall accuracy 8.309999999999999%\n",
      "\n"
     ]
    }
   ],
   "source": [
    "\n",
    "\n",
    "for epoch in range(num_epochs):\n",
    "    n_corrects = 0\n",
    "    n_labels = 0\n",
    "    for i, (imgs , labels) in enumerate(train_loader):\n",
    "        imgs = imgs.to(device)\n",
    "        labels = labels.to(device)\n",
    "\n",
    "        labels_hat = model(imgs)\n",
    "        loss_value = criterion(labels_hat, labels)\n",
    "        loss_value.backward()\n",
    "        optimizer.step()\n",
    "        optimizer.zero_grad()\n",
    "        \n",
    "        n_labels += labels.size(0)\n",
    "        n_corrects += (labels_hat.argmax(axis=1)==labels).sum().item()\n",
    "        \n",
    "        if (i+1) % 250 == 0:\n",
    "            print(f'epoch {epoch+1}/{num_epochs}, step: {i+1}/{n_total_step}: loss = {loss_value:.5f}, acc = {100*(n_corrects/n_labels):.2f}%')\n",
    "            f.write(f'epoch {epoch+1}/{num_epochs}, step: {i+1}/{n_total_step}: loss = {loss_value:.5f}, acc = {100*(n_corrects/n_labels):.2f}%\\n')\n",
    "            \n",
    "    with torch.no_grad():\n",
    "        number_corrects = 0\n",
    "        number_samples = 0\n",
    "        for i, (test_images_set , test_labels_set) in enumerate(test_loader):\n",
    "            test_images_set = test_images_set.to(device)\n",
    "            test_labels_set = test_labels_set.to(device)\n",
    "\n",
    "            y_predicted = model(test_images_set)\n",
    "            labels_predicted = y_predicted.argmax(axis = 1)\n",
    "            number_corrects += (labels_predicted==test_labels_set).sum().item()\n",
    "            number_samples += test_labels_set.size(0)\n",
    "        print(f'Overall accuracy {(number_corrects / number_samples)*100}%')\n",
    "        print()\n",
    "        f.write(f'Overall accuracy {(number_corrects / number_samples)*100}%\\n\\n')\n"
   ]
  },
  {
   "cell_type": "code",
   "execution_count": null,
   "id": "a6d7efd6",
   "metadata": {},
   "outputs": [],
   "source": []
  }
 ],
 "metadata": {
  "kernelspec": {
   "display_name": "Python 3",
   "language": "python",
   "name": "python3"
  },
  "language_info": {
   "codemirror_mode": {
    "name": "ipython",
    "version": 3
   },
   "file_extension": ".py",
   "mimetype": "text/x-python",
   "name": "python",
   "nbconvert_exporter": "python",
   "pygments_lexer": "ipython3",
   "version": "3.8.10"
  },
  "toc": {
   "base_numbering": 1,
   "nav_menu": {},
   "number_sections": false,
   "sideBar": true,
   "skip_h1_title": false,
   "title_cell": "Table of Contents",
   "title_sidebar": "Contents",
   "toc_cell": false,
   "toc_position": {},
   "toc_section_display": true,
   "toc_window_display": false
  }
 },
 "nbformat": 4,
 "nbformat_minor": 5
}
