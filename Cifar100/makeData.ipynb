{
 "cells": [
  {
   "cell_type": "code",
   "execution_count": 3,
   "id": "a2ed7f72",
   "metadata": {
    "ExecuteTime": {
     "end_time": "2022-03-04T06:53:49.985329Z",
     "start_time": "2022-03-04T06:53:49.363055Z"
    }
   },
   "outputs": [
    {
     "name": "stdout",
     "output_type": "stream",
     "text": [
      "Fri Mar  4 06:53:49 2022       \n",
      "+-----------------------------------------------------------------------------+\n",
      "| NVIDIA-SMI 495.29.05    Driver Version: 495.29.05    CUDA Version: 11.5     |\n",
      "|-------------------------------+----------------------+----------------------+\n",
      "| GPU  Name        Persistence-M| Bus-Id        Disp.A | Volatile Uncorr. ECC |\n",
      "| Fan  Temp  Perf  Pwr:Usage/Cap|         Memory-Usage | GPU-Util  Compute M. |\n",
      "|                               |                      |               MIG M. |\n",
      "|===============================+======================+======================|\n",
      "|   0  NVIDIA RTX A6000    On   | 00000000:3D:00.0 Off |                  Off |\n",
      "| 30%   35C    P8    22W / 300W |   7538MiB / 48685MiB |      0%      Default |\n",
      "|                               |                      |                  N/A |\n",
      "+-------------------------------+----------------------+----------------------+\n",
      "|   1  NVIDIA RTX A6000    On   | 00000000:3E:00.0 Off |                  Off |\n",
      "| 30%   30C    P8    20W / 300W |      3MiB / 48685MiB |      0%      Default |\n",
      "|                               |                      |                  N/A |\n",
      "+-------------------------------+----------------------+----------------------+\n",
      "|   2  NVIDIA RTX A6000    On   | 00000000:41:00.0 Off |                  Off |\n",
      "| 30%   31C    P8    22W / 300W |      3MiB / 48685MiB |      0%      Default |\n",
      "|                               |                      |                  N/A |\n",
      "+-------------------------------+----------------------+----------------------+\n",
      "                                                                               \n",
      "+-----------------------------------------------------------------------------+\n",
      "| Processes:                                                                  |\n",
      "|  GPU   GI   CI        PID   Type   Process name                  GPU Memory |\n",
      "|        ID   ID                                                   Usage      |\n",
      "|=============================================================================|\n",
      "+-----------------------------------------------------------------------------+\n"
     ]
    }
   ],
   "source": [
    "!nvidia-smi"
   ]
  },
  {
   "cell_type": "code",
   "execution_count": 4,
   "id": "e87c0a91",
   "metadata": {
    "ExecuteTime": {
     "end_time": "2022-03-04T06:54:16.998888Z",
     "start_time": "2022-03-04T06:54:16.994134Z"
    }
   },
   "outputs": [],
   "source": [
    "import os\n",
    "os.environ[\"CUDA_VISIBLE_DEVICES\"]=\"1\"\n",
    "\n"
   ]
  },
  {
   "cell_type": "code",
   "execution_count": 5,
   "id": "d7f5fc5e",
   "metadata": {
    "ExecuteTime": {
     "end_time": "2022-03-04T06:54:38.173727Z",
     "start_time": "2022-03-04T06:54:36.852242Z"
    }
   },
   "outputs": [
    {
     "name": "stdout",
     "output_type": "stream",
     "text": [
      "cuda\n"
     ]
    }
   ],
   "source": [
    "import torch\n",
    "import torch.nn as nn\n",
    "import torch.nn.functional as F\n",
    "import torchvision\n",
    "import torchvision.transforms as transforms\n",
    "from torchvision import models\n",
    "import numpy as np\n",
    "import pandas as pd\n",
    "import matplotlib.pyplot as plt\n",
    "import seaborn as sns\n",
    "device = torch.device(\"cuda\" if torch.cuda.is_available() else \"cpu\")\n",
    "print(device)\n",
    "num_epochs = 50\n",
    "batch_size = 40\n",
    "learning_rate = 0.001\n",
    "classes = ('plane', 'car' , 'bird',\n",
    "    'cat', 'deer', 'dog',\n",
    "    'frog', 'horse', 'ship', 'truck')"
   ]
  },
  {
   "cell_type": "code",
   "execution_count": 7,
   "id": "af206bbd",
   "metadata": {
    "ExecuteTime": {
     "end_time": "2022-03-04T06:54:56.446736Z",
     "start_time": "2022-03-04T06:54:54.758610Z"
    }
   },
   "outputs": [
    {
     "name": "stdout",
     "output_type": "stream",
     "text": [
      "Files already downloaded and verified\n",
      "Files already downloaded and verified\n"
     ]
    }
   ],
   "source": [
    "transform = transforms.Compose([\n",
    "    transforms.Resize(size=(224, 224)),\n",
    "    transforms.ToTensor(),\n",
    "    transforms.Normalize( \n",
    "       (0.4914, 0.4822, 0.4465), (0.2023, 0.1994, 0.2010) \n",
    "    )\n",
    "])\n",
    "train_dataset = torchvision.datasets.CIFAR100(\n",
    "    root= './data', train = True,\n",
    "    download =True, transform = transform)\n",
    "test_dataset = torchvision.datasets.CIFAR100(\n",
    "    root= './data', train = False,\n",
    "    download =True, transform = transform)\n"
   ]
  },
  {
   "cell_type": "code",
   "execution_count": 8,
   "id": "b301e3d1",
   "metadata": {
    "ExecuteTime": {
     "end_time": "2022-03-04T06:55:00.211528Z",
     "start_time": "2022-03-04T06:55:00.202861Z"
    }
   },
   "outputs": [
    {
     "name": "stdout",
     "output_type": "stream",
     "text": [
      "1250\n"
     ]
    }
   ],
   "source": [
    "train_loader = torch.utils.data.DataLoader(train_dataset\n",
    "    , batch_size = batch_size\n",
    "    , shuffle = True)\n",
    "test_loader = torch.utils.data.DataLoader(test_dataset\n",
    "    , batch_size = batch_size\n",
    "    , shuffle = True)\n",
    "n_total_step = len(train_loader)\n",
    "print(n_total_step)\n"
   ]
  },
  {
   "cell_type": "code",
   "execution_count": 10,
   "id": "c5681190",
   "metadata": {
    "ExecuteTime": {
     "end_time": "2022-03-04T06:55:23.190605Z",
     "start_time": "2022-03-04T06:55:18.699600Z"
    }
   },
   "outputs": [],
   "source": [
    "model = torch.load(\"acc_75.24.pth\")\n",
    "model = model.to(device)\n",
    "model.eval()\n",
    "criterion = nn.CrossEntropyLoss()\n",
    "optimizer = torch.optim.SGD(model.parameters(), lr = learning_rate, momentum=0.9,weight_decay=5e-4)\n"
   ]
  },
  {
   "cell_type": "code",
   "execution_count": 11,
   "id": "f678aaac",
   "metadata": {
    "ExecuteTime": {
     "end_time": "2022-03-04T06:55:23.199226Z",
     "start_time": "2022-03-04T06:55:23.192704Z"
    }
   },
   "outputs": [],
   "source": [
    "from tqdm import tqdm\n",
    "\n",
    "def normalize_max1(w):\n",
    "    for i in range(len(w)):\n",
    "        w[i] = w[i] / torch.max(abs(w[i]))\n",
    "    return w\n",
    "\n",
    "to_gaussian = lambda arr, mean = 1, std = 1: ((arr - torch.mean(arr))/ (torch.std(arr) + 0.00001)) * std + mean\n",
    "\n",
    "softmax = torch.nn.Softmax(dim=1)\n",
    "softmax2d = lambda b: softmax(torch.flatten(b, start_dim = 1)).reshape(b.shape)\n",
    "f2 = lambda w, _=None: softmax2d(normalize_max1(-w)) * len(w[0])\n",
    "\n",
    "def normalize(img):\n",
    "    img = img- torch.min(img)\n",
    "    img /= (torch.max(img) + 0.01)\n",
    "    img = img* 255\n",
    "    return img.int()\n",
    "\n",
    "def change_format(img):\n",
    "    return torch.cat((img[2].unsqueeze(-1), img[1].unsqueeze(-1), img[0].unsqueeze(-1)), dim=-1)\n",
    "\n",
    "def image_unnormalize(img):\n",
    "    img = normalize(img)\n",
    "    img = change_format(img).cpu().detach().numpy().reshape(224,224,3)\n",
    "    return img\n",
    "\n",
    "\n"
   ]
  },
  {
   "cell_type": "code",
   "execution_count": 26,
   "id": "f003ff75",
   "metadata": {
    "ExecuteTime": {
     "end_time": "2022-03-04T07:26:04.745682Z",
     "start_time": "2022-03-04T07:24:40.444308Z"
    }
   },
   "outputs": [
    {
     "name": "stderr",
     "output_type": "stream",
     "text": [
      "100%|██████████| 250/250 [01:24<00:00,  2.97it/s]\n"
     ]
    }
   ],
   "source": [
    "correct_before, correct_after, all = 0,0, 0\n",
    "import pickle\n",
    "\n",
    "write_data = []\n",
    "\n",
    "\n",
    "for idx, batch in enumerate(tqdm(test_loader)):\n",
    "    img , label = batch[0].cuda(), batch[1].cuda()\n",
    "\n",
    "    img.requires_grad = True\n",
    "    img.retain_grad = True\n",
    "    \n",
    "    output = model(img)\n",
    "\n",
    "    loss = criterion(output, label)\n",
    "    loss.backward()\n",
    "    optimizer.zero_grad()\n",
    "\n",
    "    img_lrp = (img*img.grad).clone()\n",
    "    img_lrp = f2(img_lrp)\n",
    "    \n",
    "    correct_before += sum(label == torch.argmax(output, dim=1))\n",
    "    all += len(label)\n",
    "    \n",
    "    with torch.no_grad():\n",
    "        for i in range(len(img_lrp)):\n",
    "            img_lrp[i] = to_gaussian(img_lrp[i], std = 0.1)\n",
    "\n",
    "        img_lrp = img*img_lrp # img_lrp가 음수값인것 지움\n",
    "        softlabel = model(img_lrp)\n",
    "        correct_after += sum(label == torch.argmax(softlabel, dim=1))\n",
    "    \n",
    "    for it in range(len(img)):\n",
    "        write_pickle = {\n",
    "            \"label\" : label[it].item(),\n",
    "            \"softlabel\" : softlabel[it].cpu().numpy(),\n",
    "            \"img\" : img[it].detach().cpu().numpy(),\n",
    "            \"lrp_img\": img_lrp[it].detach().cpu().numpy()\n",
    "        }\n",
    "        write_data.append(write_pickle)\n"
   ]
  },
  {
   "cell_type": "code",
   "execution_count": 27,
   "id": "dbe3f58c",
   "metadata": {
    "ExecuteTime": {
     "end_time": "2022-03-04T07:26:15.506526Z",
     "start_time": "2022-03-04T07:26:04.747639Z"
    }
   },
   "outputs": [
    {
     "name": "stderr",
     "output_type": "stream",
     "text": [
      "100%|██████████| 10000/10000 [00:10<00:00, 929.99it/s]\n"
     ]
    }
   ],
   "source": [
    "for idx, d in enumerate(tqdm(write_data)):\n",
    "    with open(\"LRP_Data/test/\" + str(idx).zfill(6) + \".pickle\", \"wb\") as f:\n",
    "        pickle.dump(d, f)\n"
   ]
  }
 ],
 "metadata": {
  "kernelspec": {
   "display_name": "Python 3",
   "language": "python",
   "name": "python3"
  },
  "language_info": {
   "codemirror_mode": {
    "name": "ipython",
    "version": 3
   },
   "file_extension": ".py",
   "mimetype": "text/x-python",
   "name": "python",
   "nbconvert_exporter": "python",
   "pygments_lexer": "ipython3",
   "version": "3.8.10"
  },
  "toc": {
   "base_numbering": 1,
   "nav_menu": {},
   "number_sections": false,
   "sideBar": true,
   "skip_h1_title": false,
   "title_cell": "Table of Contents",
   "title_sidebar": "Contents",
   "toc_cell": false,
   "toc_position": {},
   "toc_section_display": true,
   "toc_window_display": false
  }
 },
 "nbformat": 4,
 "nbformat_minor": 5
}
