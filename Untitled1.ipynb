{
 "cells": [
  {
   "cell_type": "code",
   "execution_count": 1,
   "id": "8623f4ae",
   "metadata": {
    "ExecuteTime": {
     "end_time": "2022-03-03T21:20:58.815064Z",
     "start_time": "2022-03-03T21:20:58.810268Z"
    }
   },
   "outputs": [],
   "source": [
    "import os\n",
    "os.environ[\"CUDA_VISIBLE_DEVICES\"]=\"1\"\n",
    "\n"
   ]
  },
  {
   "cell_type": "code",
   "execution_count": 2,
   "id": "b0cde357",
   "metadata": {
    "ExecuteTime": {
     "end_time": "2022-03-03T21:21:00.159800Z",
     "start_time": "2022-03-03T21:20:58.997761Z"
    }
   },
   "outputs": [
    {
     "name": "stdout",
     "output_type": "stream",
     "text": [
      "cuda\n"
     ]
    }
   ],
   "source": [
    "import torch\n",
    "import torch.nn as nn\n",
    "import torch.nn.functional as F\n",
    "import torchvision\n",
    "import torchvision.transforms as transforms\n",
    "from torchvision import models\n",
    "import numpy as np\n",
    "import pandas as pd\n",
    "import matplotlib.pyplot as plt\n",
    "import seaborn as sns\n",
    "device = torch.device(\"cuda\" if torch.cuda.is_available() else \"cpu\")\n",
    "print(device)\n",
    "num_epochs = 5\n",
    "batch_size = 40\n",
    "learning_rate = 0.001\n",
    "classes = ('plane', 'car' , 'bird',\n",
    "    'cat', 'deer', 'dog',\n",
    "    'frog', 'horse', 'ship', 'truck')"
   ]
  },
  {
   "cell_type": "code",
   "execution_count": 3,
   "id": "49502e15",
   "metadata": {
    "ExecuteTime": {
     "end_time": "2022-03-03T21:21:00.163735Z",
     "start_time": "2022-03-03T21:21:00.161389Z"
    }
   },
   "outputs": [],
   "source": [
    "import os\n",
    "import pickle\n",
    "import random\n",
    "from glob import glob\n",
    "from torch.utils.data import Dataset, DataLoader\n",
    "from PIL import Image\n",
    "\n",
    "import torch"
   ]
  },
  {
   "cell_type": "code",
   "execution_count": null,
   "id": "d2f7c2f4",
   "metadata": {
    "ExecuteTime": {
     "start_time": "2022-03-04T01:05:02.787Z"
    }
   },
   "outputs": [],
   "source": [
    "class Cifar10(Dataset):\n",
    "    def __init__(self, data_dir = \"MnistDataset/MnistLRP/\", transform = None):\n",
    "        self.transform = transform\n",
    "        \n",
    "        self.train_data = []\n",
    "        self.train_files = glob(data_dir + \"/*.pickle\")\n",
    "        \n",
    "\n",
    "    def __len__(self):\n",
    "        return len(self.train_files)\n",
    "    \n",
    "    def __getitem__(self,idx):\n",
    "        with open(self.train_files[idx], 'rb') as f:\n",
    "            data = pickle.load(f)\n",
    "        return self.train_data[idx]\n"
   ]
  },
  {
   "cell_type": "code",
   "execution_count": 7,
   "id": "b1f165ee",
   "metadata": {
    "ExecuteTime": {
     "end_time": "2022-03-03T21:24:23.937944Z",
     "start_time": "2022-03-03T21:23:44.194797Z"
    }
   },
   "outputs": [],
   "source": [
    "train_data = Cifar10(\"MnistDataset/MnistLRP/\")\n",
    "test_data = Cifar10(\"MnistDataset/MnistLRP_TEST/\")"
   ]
  },
  {
   "cell_type": "code",
   "execution_count": 8,
   "id": "b2c9842f",
   "metadata": {
    "ExecuteTime": {
     "end_time": "2022-03-03T21:24:23.974112Z",
     "start_time": "2022-03-03T21:24:23.939719Z"
    }
   },
   "outputs": [],
   "source": [
    "test_loader = torch.utils.data.DataLoader(test_data\n",
    "    , batch_size = 40\n",
    "    , shuffle = True)\n",
    "\n",
    "train_loader = torch.utils.data.DataLoader(train_data\n",
    "    , batch_size = 100\n",
    "    , shuffle = True)"
   ]
  },
  {
   "cell_type": "code",
   "execution_count": 16,
   "id": "f097b9fe",
   "metadata": {
    "ExecuteTime": {
     "end_time": "2022-03-03T21:39:57.787210Z",
     "start_time": "2022-03-03T21:39:56.600096Z"
    }
   },
   "outputs": [],
   "source": [
    "model = models.vgg16(pretrained = True)\n",
    "input_lastLayer = model.classifier[6].in_features\n",
    "model.classifier[6] = nn.Linear(input_lastLayer,10)\n",
    "model = model.to(device)\n",
    "criterion = nn.CrossEntropyLoss()\n",
    "optimizer = torch.optim.SGD(model.parameters(), lr = learning_rate, momentum=0.9,weight_decay=5e-4)\n"
   ]
  },
  {
   "cell_type": "code",
   "execution_count": 17,
   "id": "572bab7f",
   "metadata": {
    "ExecuteTime": {
     "end_time": "2022-03-03T21:39:57.795189Z",
     "start_time": "2022-03-03T21:39:57.789159Z"
    }
   },
   "outputs": [],
   "source": [
    "def normalize_max1(w):\n",
    "    for i in range(len(w)):\n",
    "        w[i] = w[i] / torch.max(abs(w[i]))\n",
    "    return w\n",
    "criterion_KLD=nn.KLDivLoss(reduction=\"batchmean\")\n",
    "to_gaussian = lambda arr, mean = 1, std = 1: ((arr - torch.mean(arr))/ (torch.std(arr) + 0.00001)) * std + mean\n",
    "\n",
    "softmax = torch.nn.Softmax(dim=1)\n",
    "softmax2d = lambda b: softmax(torch.flatten(b, start_dim = 1)).reshape(b.shape)\n",
    "f2 = lambda w, _=None: softmax2d(normalize_max1(-w)) * len(w[0])\n",
    "\n",
    "\n",
    "criterion1 = lambda a,b : criterion_KLD(torch.log_softmax(a, dim=1),torch.softmax(b, dim=1))\n",
    "# criterion2 = lambda a,b : criterion_KLD(torch.softmax(a, dim=1),torch.log_softmax(b, dim=1))\n",
    "criterion3 = lambda a,b : criterion_l2(torch.softmax(a, dim=1),torch.softmax(b, dim=1))\n",
    "criterion4 = lambda a,b : criterion_l1(torch.log_softmax(a, dim=1),torch.log_softmax(b, dim=1))\n",
    "criterion5 = lambda a,b : criterion_l1(torch.softmax(a, dim=1),torch.softmax(b, dim=1))\n",
    "\n",
    "criterion6 = lambda a,b : criterion_l2(torch.log_softmax(a, dim=1),torch.log_softmax(b, dim=1))\n"
   ]
  },
  {
   "cell_type": "code",
   "execution_count": 1,
   "id": "202c8fa5",
   "metadata": {
    "ExecuteTime": {
     "end_time": "2022-03-04T07:27:09.235938Z",
     "start_time": "2022-03-04T07:27:09.162235Z"
    }
   },
   "outputs": [
    {
     "ename": "NameError",
     "evalue": "name 'train_loader' is not defined",
     "output_type": "error",
     "traceback": [
      "\u001b[0;31m---------------------------------------------------------------------------\u001b[0m",
      "\u001b[0;31mNameError\u001b[0m                                 Traceback (most recent call last)",
      "\u001b[0;32m<ipython-input-1-903ceddccaf9>\u001b[0m in \u001b[0;36m<module>\u001b[0;34m\u001b[0m\n\u001b[0;32m----> 1\u001b[0;31m \u001b[0mn_total_step\u001b[0m \u001b[0;34m=\u001b[0m \u001b[0mlen\u001b[0m\u001b[0;34m(\u001b[0m\u001b[0mtrain_loader\u001b[0m\u001b[0;34m)\u001b[0m\u001b[0;34m\u001b[0m\u001b[0;34m\u001b[0m\u001b[0m\n\u001b[0m\u001b[1;32m      2\u001b[0m \u001b[0;34m\u001b[0m\u001b[0m\n\u001b[1;32m      3\u001b[0m \u001b[0;32mfrom\u001b[0m \u001b[0mtqdm\u001b[0m \u001b[0;32mimport\u001b[0m \u001b[0mtqdm\u001b[0m\u001b[0;34m\u001b[0m\u001b[0;34m\u001b[0m\u001b[0m\n\u001b[1;32m      4\u001b[0m \u001b[0;32mfor\u001b[0m \u001b[0mepoch\u001b[0m \u001b[0;32min\u001b[0m \u001b[0mrange\u001b[0m\u001b[0;34m(\u001b[0m\u001b[0;36m100\u001b[0m\u001b[0;34m)\u001b[0m\u001b[0;34m:\u001b[0m\u001b[0;34m\u001b[0m\u001b[0;34m\u001b[0m\u001b[0m\n\u001b[1;32m      5\u001b[0m \u001b[0;34m\u001b[0m\u001b[0m\n",
      "\u001b[0;31mNameError\u001b[0m: name 'train_loader' is not defined"
     ]
    }
   ],
   "source": [
    "n_total_step = len(train_loader)\n",
    "\n",
    "from tqdm import tqdm\n",
    "for epoch in range(100):\n",
    "\n",
    "    all_data, correct = 0, 0\n",
    "    for idx, batch in enumerate(train_loader):\n",
    "        label, softlabel , img, lrp_img = batch['label'].cuda(), batch['softlabel'].cuda(), batch['img'].cuda(), batch['lrp_img'].cuda()\n",
    "        output = model(img)\n",
    "        comp = (label == torch.argmax(output, dim=1))\n",
    "        correct += sum(comp).item()\n",
    "        all_data += len(label)\n",
    "        loss_value = criterion1(output, softlabel)\n",
    "        loss_value.backward()\n",
    "        optimizer.step()\n",
    "        optimizer.zero_grad()\n",
    "\n",
    "        if (idx+1) % 250 == 0:\n",
    "            print(f'epoch {epoch+1}/{num_epochs}, step: {idx+1}/{n_total_step}: loss = {loss_value:.5f}, acc = {100*(correct/all_data):.2f}%')\n",
    "\n",
    "\n",
    "    with torch.no_grad():\n",
    "        number_corrects = 0\n",
    "        number_samples = 0\n",
    "        for i, batch in enumerate(test_loader):\n",
    "            label, _ , img, _ = batch['label'].cuda(), batch['softlabel'].cuda(), batch['img'].cuda(), batch['lrp_img'].cuda()\n",
    "\n",
    "            y_predicted = model(img)\n",
    "            labels_predicted = y_predicted.argmax(axis = 1)\n",
    "            number_corrects += (labels_predicted==label).sum().item()\n",
    "            number_samples += label.size(0)\n",
    "        print(f'Overall accuracy {(number_corrects / number_samples)*100}%')\n",
    "        print()\n",
    "\n",
    "            "
   ]
  },
  {
   "cell_type": "code",
   "execution_count": null,
   "id": "528815f4",
   "metadata": {},
   "outputs": [],
   "source": [
    "with torch.no_grad():\n",
    "    number_corrects = 0\n",
    "    number_samples = 0\n",
    "    for i, batch in enumerate(test_loader):\n",
    "        label, _ , img, _ = batch['label'].cuda(), batch['softlabel'].cuda(), batch['img'].cuda(), batch['lrp_img'].cuda()\n",
    "\n",
    "        y_predicted = model(img)\n",
    "        labels_predicted = y_predicted.argmax(axis = 1)\n",
    "        number_corrects += (labels_predicted==label).sum().item()\n",
    "        number_samples += label.size(0)\n",
    "    print(f'Overall accuracy {(number_corrects / number_samples)*100}%')\n",
    "    print()\n"
   ]
  }
 ],
 "metadata": {
  "kernelspec": {
   "display_name": "Python 3",
   "language": "python",
   "name": "python3"
  },
  "language_info": {
   "codemirror_mode": {
    "name": "ipython",
    "version": 3
   },
   "file_extension": ".py",
   "mimetype": "text/x-python",
   "name": "python",
   "nbconvert_exporter": "python",
   "pygments_lexer": "ipython3",
   "version": "3.8.10"
  },
  "toc": {
   "base_numbering": 1,
   "nav_menu": {},
   "number_sections": false,
   "sideBar": true,
   "skip_h1_title": false,
   "title_cell": "Table of Contents",
   "title_sidebar": "Contents",
   "toc_cell": false,
   "toc_position": {},
   "toc_section_display": true,
   "toc_window_display": false
  }
 },
 "nbformat": 4,
 "nbformat_minor": 5
}
