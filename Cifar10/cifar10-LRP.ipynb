{
 "cells": [
  {
   "cell_type": "code",
   "execution_count": 1,
   "id": "fea9e161",
   "metadata": {
    "ExecuteTime": {
     "end_time": "2022-03-02T14:09:26.888232Z",
     "start_time": "2022-03-02T14:09:25.720959Z"
    }
   },
   "outputs": [
    {
     "name": "stdout",
     "output_type": "stream",
     "text": [
      "cuda\n"
     ]
    }
   ],
   "source": [
    "import torch\n",
    "import torch.nn as nn\n",
    "import torch.nn.functional as F\n",
    "import torchvision\n",
    "import torchvision.transforms as transforms\n",
    "from torchvision import models\n",
    "import numpy as np\n",
    "import pandas as pd\n",
    "import matplotlib.pyplot as plt\n",
    "import seaborn as sns\n",
    "device = torch.device(\"cuda\" if torch.cuda.is_available() else \"cpu\")\n",
    "print(device)\n",
    "num_epochs = 5\n",
    "batch_size = 40\n",
    "learning_rate = 0.001\n",
    "classes = ('plane', 'car' , 'bird',\n",
    "    'cat', 'deer', 'dog',\n",
    "    'frog', 'horse', 'ship', 'truck')"
   ]
  },
  {
   "cell_type": "code",
   "execution_count": 2,
   "id": "2a05d248",
   "metadata": {
    "ExecuteTime": {
     "end_time": "2022-03-02T14:09:28.315291Z",
     "start_time": "2022-03-02T14:09:26.891308Z"
    }
   },
   "outputs": [
    {
     "name": "stdout",
     "output_type": "stream",
     "text": [
      "Files already downloaded and verified\n",
      "Files already downloaded and verified\n"
     ]
    }
   ],
   "source": [
    "transform = transforms.Compose([\n",
    "    transforms.Resize(size=(224, 224)),\n",
    "    transforms.ToTensor(),\n",
    "    transforms.Normalize( \n",
    "       (0.4914, 0.4822, 0.4465), (0.2023, 0.1994, 0.2010) \n",
    "    )\n",
    "])\n",
    "train_dataset = torchvision.datasets.CIFAR10(\n",
    "    root= './data', train = True,\n",
    "    download =True, transform = transform)\n",
    "test_dataset = torchvision.datasets.CIFAR10(\n",
    "    root= './data', train = False,\n",
    "    download =True, transform = transform)\n"
   ]
  },
  {
   "cell_type": "code",
   "execution_count": 3,
   "id": "4bb75690",
   "metadata": {
    "ExecuteTime": {
     "end_time": "2022-03-02T14:09:28.324488Z",
     "start_time": "2022-03-02T14:09:28.321204Z"
    }
   },
   "outputs": [
    {
     "name": "stdout",
     "output_type": "stream",
     "text": [
      "1250\n"
     ]
    }
   ],
   "source": [
    "train_loader = torch.utils.data.DataLoader(train_dataset\n",
    "    , batch_size = batch_size\n",
    "    , shuffle = True)\n",
    "test_loader = torch.utils.data.DataLoader(test_dataset\n",
    "    , batch_size = 256\n",
    "    , shuffle = True)\n",
    "n_total_step = len(train_loader)\n",
    "print(n_total_step)\n"
   ]
  },
  {
   "cell_type": "code",
   "execution_count": 4,
   "id": "dbd5c99a",
   "metadata": {
    "ExecuteTime": {
     "end_time": "2022-03-02T14:09:33.178955Z",
     "start_time": "2022-03-02T14:09:29.264996Z"
    }
   },
   "outputs": [],
   "source": [
    "teacher_model = torch.load(\"cifar-10.pth\")"
   ]
  },
  {
   "cell_type": "code",
   "execution_count": 5,
   "id": "0b6c3c3e",
   "metadata": {
    "ExecuteTime": {
     "end_time": "2022-03-02T14:09:34.985907Z",
     "start_time": "2022-03-02T14:09:33.678567Z"
    }
   },
   "outputs": [],
   "source": [
    "model = models.vgg16(pretrained = True)\n",
    "input_lastLayer = model.classifier[6].in_features\n",
    "model.classifier[6] = nn.Linear(input_lastLayer,10)\n",
    "model = model.to(device)\n",
    "criterion = nn.CrossEntropyLoss()\n",
    "optimizer = torch.optim.SGD(model.parameters(), lr = learning_rate, momentum=0.9,weight_decay=5e-4)\n",
    "fake_optimizer = torch.optim.SGD(teacher_model.parameters(), lr = 0.0, momentum=0.9,weight_decay=5e-4)\n"
   ]
  },
  {
   "cell_type": "code",
   "execution_count": null,
   "id": "f003b4db",
   "metadata": {
    "ExecuteTime": {
     "start_time": "2022-03-02T14:11:08.446Z"
    }
   },
   "outputs": [],
   "source": [
    "def normalize_max1(w):\n",
    "    for i in range(len(w)):\n",
    "        w[i] = w[i] / torch.max(abs(w[i]))\n",
    "    return w\n",
    "\n",
    "to_gaussian = lambda arr, mean = 1, std = 1: ((arr - torch.mean(arr))/ (torch.std(arr) + 0.00001)) * std + mean\n",
    "\n",
    "softmax = torch.nn.Softmax(dim=1)\n",
    "softmax2d = lambda b: softmax(torch.flatten(b, start_dim = 1)).reshape(b.shape)\n",
    "f2 = lambda w, _=None: softmax2d(normalize_max1(-w)) * len(w[0])\n",
    "\n",
    "for epoch in range(num_epochs):\n",
    "    correct_T, correct_S, all = 0, 0, 0\n",
    "    for i, (imgs , labels) in enumerate(train_loader):\n",
    "        all += len(labels)\n",
    "        imgs = imgs.to(device)\n",
    "        labels = labels.to(device)\n",
    "        \n",
    "        # teacher model\n",
    "        img_clone = imgs.clone()\n",
    "        labels_clone = labels.clone()\n",
    "        \n",
    "        img_clone.requires_grad = True\n",
    "        img_clone.retain_grad = True\n",
    "        \n",
    "        t_output = teacher_model(img_clone)\n",
    "        loss = criterion(t_output, labels_clone)\n",
    "        loss.backward()\n",
    "        \n",
    "        fake_optimizer.zero_grad()\n",
    "        img_lrp = img_clone * img_clone.grad\n",
    "        img_lrp = f2(img_lrp)\n",
    "        \n",
    "        with torch.no_grad():\n",
    "            for ii in range(len(img_lrp)):\n",
    "                img_lrp[ii] = to_gaussian(img_lrp[ii], std = 0.1)\n",
    "            \n",
    "            img_clone = img_clone*img_clone\n",
    "            softlabel = model(img_clone)\n",
    "\n",
    "            correct_T += sum(labels == torch.argmax(softlabel, dim=1))\n",
    "            \n",
    "        \n",
    "        # student model\n",
    "        output = model(imgs)\n",
    "\n",
    "        \n",
    "        correct_S += sum(labels == torch.argmax(output, dim=1))\n",
    "\n",
    "        loss = criterion(output, labels)\n",
    "        loss.backward()\n",
    "        optimizer.step()\n",
    "        optimizer.zero_grad()\n",
    "        \n",
    "        if (i+1) % 250 == 0:\n",
    "            print(f'epoch {epoch+1}/{num_epochs}, step: {i+1}/{n_total_step}: loss = {loss:.5f}, acc = {100*(correct_S/all):.2f}%')\n",
    "            print()\n"
   ]
  },
  {
   "cell_type": "code",
   "execution_count": null,
   "id": "a28fb0ad",
   "metadata": {},
   "outputs": [],
   "source": []
  },
  {
   "cell_type": "code",
   "execution_count": null,
   "id": "66bf99c6",
   "metadata": {},
   "outputs": [],
   "source": []
  },
  {
   "cell_type": "markdown",
   "id": "6bab2ccf",
   "metadata": {},
   "source": [
    "# LRP std에관한 실험"
   ]
  },
  {
   "cell_type": "code",
   "execution_count": 8,
   "id": "077ed593",
   "metadata": {
    "ExecuteTime": {
     "end_time": "2022-03-02T13:48:48.089795Z",
     "start_time": "2022-03-02T13:48:48.080399Z"
    }
   },
   "outputs": [],
   "source": [
    "def normalize_max1(w):\n",
    "    for i in range(len(w)):\n",
    "        w[i] = w[i] / torch.max(abs(w[i]))\n",
    "    return w\n",
    "\n",
    "to_gaussian = lambda arr, mean = 1, std = 1: ((arr - torch.mean(arr))/ (torch.std(arr) + 0.00001)) * std + mean\n",
    "\n",
    "softmax = torch.nn.Softmax(dim=1)\n",
    "softmax2d = lambda b: softmax(torch.flatten(b, start_dim = 1)).reshape(b.shape)\n",
    "f2 = lambda w, _=None: softmax2d(normalize_max1(-w)) * len(w[0])\n"
   ]
  },
  {
   "cell_type": "code",
   "execution_count": 9,
   "id": "272a6543",
   "metadata": {
    "ExecuteTime": {
     "end_time": "2022-03-02T13:48:48.661605Z",
     "start_time": "2022-03-02T13:48:48.651260Z"
    }
   },
   "outputs": [],
   "source": [
    "def lrp_normalize(model, dataset, std = 0.01):\n",
    "    optimizer = torch.optim.SGD(model.parameters(), lr = 0.0, momentum=0.9,weight_decay=5e-4)\n",
    "    criterion = nn.CrossEntropyLoss()\n",
    "\n",
    "    f2 = lambda w, _=None: softmax2d(normalize_max1(-w)) * len(w[0])\n",
    "    \n",
    "    correct, all = 0,0\n",
    "    for idx, batch in enumerate(tqdm(dataset)):\n",
    "        img , label = batch[0].cuda(), batch[1].cuda()\n",
    "\n",
    "#         return img, label\n",
    "        img.requires_grad = True\n",
    "        img.retain_grad = True\n",
    "        \n",
    "        fake_label = torch.ones_like(label)\n",
    "        \n",
    "        output = model(img)\n",
    "        output_arg = torch.argmax(output, dim=1)\n",
    "        fake_label = (fake_label + output_arg) % 1000\n",
    "        \n",
    "        loss = criterion(output, label)\n",
    "        loss.backward()\n",
    "#         torch.sum(output).backward()\n",
    "        optimizer.zero_grad()\n",
    "        \n",
    "        img_lrp = img*img.grad\n",
    "        img_lrp = f2(img_lrp)\n",
    "        with torch.no_grad():\n",
    "            for i in range(len(img_lrp)):\n",
    "                img_lrp[i] = to_gaussian(img_lrp[i], std = std)\n",
    "            \n",
    "            img = img*img_lrp # img_lrp가 음수값인것 지움\n",
    "            output = model(img)\n",
    "        \n",
    "            all += len(label)\n",
    "            correct += sum(label == torch.argmax(output, dim=1))\n",
    "        \n",
    "    print('Accuracy : %.4f' % (correct/all))\n",
    "    return img, img.grad\n",
    "    "
   ]
  },
  {
   "cell_type": "code",
   "execution_count": 16,
   "id": "3d7989c2",
   "metadata": {
    "ExecuteTime": {
     "end_time": "2022-03-02T14:07:22.859637Z",
     "start_time": "2022-03-02T14:04:01.191018Z"
    }
   },
   "outputs": [
    {
     "name": "stderr",
     "output_type": "stream",
     "text": [
      "\r",
      "  0%|          | 0/40 [00:00<?, ?it/s]"
     ]
    },
    {
     "name": "stdout",
     "output_type": "stream",
     "text": [
      "std : 0.09\n"
     ]
    },
    {
     "name": "stderr",
     "output_type": "stream",
     "text": [
      "100%|██████████| 40/40 [00:47<00:00,  1.19s/it]\n",
      "  0%|          | 0/40 [00:00<?, ?it/s]"
     ]
    },
    {
     "name": "stdout",
     "output_type": "stream",
     "text": [
      "Accuracy : 0.9976\n",
      "std : 0.08\n"
     ]
    },
    {
     "name": "stderr",
     "output_type": "stream",
     "text": [
      "100%|██████████| 40/40 [00:48<00:00,  1.21s/it]\n",
      "  0%|          | 0/40 [00:00<?, ?it/s]"
     ]
    },
    {
     "name": "stdout",
     "output_type": "stream",
     "text": [
      "Accuracy : 0.9976\n",
      "std : 0.07\n"
     ]
    },
    {
     "name": "stderr",
     "output_type": "stream",
     "text": [
      "100%|██████████| 40/40 [00:48<00:00,  1.21s/it]\n",
      "  0%|          | 0/40 [00:00<?, ?it/s]"
     ]
    },
    {
     "name": "stdout",
     "output_type": "stream",
     "text": [
      "Accuracy : 0.9974\n",
      "std : 0.06\n"
     ]
    },
    {
     "name": "stderr",
     "output_type": "stream",
     "text": [
      "100%|██████████| 40/40 [00:48<00:00,  1.21s/it]\n",
      "  0%|          | 0/40 [00:00<?, ?it/s]"
     ]
    },
    {
     "name": "stdout",
     "output_type": "stream",
     "text": [
      "Accuracy : 0.9971\n",
      "std : 0.05\n"
     ]
    },
    {
     "name": "stderr",
     "output_type": "stream",
     "text": [
      " 18%|█▊        | 7/40 [00:08<00:42,  1.28s/it]\n"
     ]
    },
    {
     "ename": "KeyboardInterrupt",
     "evalue": "",
     "output_type": "error",
     "traceback": [
      "\u001b[0;31m---------------------------------------------------------------------------\u001b[0m",
      "\u001b[0;31mKeyboardInterrupt\u001b[0m                         Traceback (most recent call last)",
      "\u001b[0;32m<ipython-input-16-ae857f0bf641>\u001b[0m in \u001b[0;36m<module>\u001b[0;34m\u001b[0m\n\u001b[1;32m      4\u001b[0m \u001b[0;32mfor\u001b[0m \u001b[0mstd\u001b[0m \u001b[0;32min\u001b[0m \u001b[0mrange\u001b[0m\u001b[0;34m(\u001b[0m\u001b[0;36m9\u001b[0m\u001b[0;34m,\u001b[0m\u001b[0;36m0\u001b[0m\u001b[0;34m,\u001b[0m \u001b[0;34m-\u001b[0m\u001b[0;36m1\u001b[0m\u001b[0;34m)\u001b[0m\u001b[0;34m:\u001b[0m\u001b[0;34m\u001b[0m\u001b[0;34m\u001b[0m\u001b[0m\n\u001b[1;32m      5\u001b[0m     \u001b[0mprint\u001b[0m\u001b[0;34m(\u001b[0m\u001b[0;34mf'std : {std/100}'\u001b[0m\u001b[0;34m)\u001b[0m\u001b[0;34m\u001b[0m\u001b[0;34m\u001b[0m\u001b[0m\n\u001b[0;32m----> 6\u001b[0;31m     \u001b[0mdd\u001b[0m \u001b[0;34m=\u001b[0m \u001b[0mlrp_normalize\u001b[0m\u001b[0;34m(\u001b[0m\u001b[0mteacher_model\u001b[0m\u001b[0;34m,\u001b[0m \u001b[0mtest_loader\u001b[0m\u001b[0;34m,\u001b[0m \u001b[0mstd\u001b[0m\u001b[0;34m/\u001b[0m\u001b[0;36m100\u001b[0m\u001b[0;34m)\u001b[0m\u001b[0;34m\u001b[0m\u001b[0;34m\u001b[0m\u001b[0m\n\u001b[0m",
      "\u001b[0;32m<ipython-input-9-5b86bd85fccf>\u001b[0m in \u001b[0;36mlrp_normalize\u001b[0;34m(model, dataset, std)\u001b[0m\n\u001b[1;32m     25\u001b[0m \u001b[0;34m\u001b[0m\u001b[0m\n\u001b[1;32m     26\u001b[0m         \u001b[0mimg_lrp\u001b[0m \u001b[0;34m=\u001b[0m \u001b[0mimg\u001b[0m\u001b[0;34m*\u001b[0m\u001b[0mimg\u001b[0m\u001b[0;34m.\u001b[0m\u001b[0mgrad\u001b[0m\u001b[0;34m\u001b[0m\u001b[0;34m\u001b[0m\u001b[0m\n\u001b[0;32m---> 27\u001b[0;31m         \u001b[0mimg_lrp\u001b[0m \u001b[0;34m=\u001b[0m \u001b[0mf2\u001b[0m\u001b[0;34m(\u001b[0m\u001b[0mimg_lrp\u001b[0m\u001b[0;34m)\u001b[0m\u001b[0;34m\u001b[0m\u001b[0;34m\u001b[0m\u001b[0m\n\u001b[0m\u001b[1;32m     28\u001b[0m         \u001b[0;32mwith\u001b[0m \u001b[0mtorch\u001b[0m\u001b[0;34m.\u001b[0m\u001b[0mno_grad\u001b[0m\u001b[0;34m(\u001b[0m\u001b[0;34m)\u001b[0m\u001b[0;34m:\u001b[0m\u001b[0;34m\u001b[0m\u001b[0;34m\u001b[0m\u001b[0m\n\u001b[1;32m     29\u001b[0m             \u001b[0;32mfor\u001b[0m \u001b[0mi\u001b[0m \u001b[0;32min\u001b[0m \u001b[0mrange\u001b[0m\u001b[0;34m(\u001b[0m\u001b[0mlen\u001b[0m\u001b[0;34m(\u001b[0m\u001b[0mimg_lrp\u001b[0m\u001b[0;34m)\u001b[0m\u001b[0;34m)\u001b[0m\u001b[0;34m:\u001b[0m\u001b[0;34m\u001b[0m\u001b[0;34m\u001b[0m\u001b[0m\n",
      "\u001b[0;32m<ipython-input-9-5b86bd85fccf>\u001b[0m in \u001b[0;36m<lambda>\u001b[0;34m(w, _)\u001b[0m\n\u001b[1;32m      3\u001b[0m     \u001b[0mcriterion\u001b[0m \u001b[0;34m=\u001b[0m \u001b[0mnn\u001b[0m\u001b[0;34m.\u001b[0m\u001b[0mCrossEntropyLoss\u001b[0m\u001b[0;34m(\u001b[0m\u001b[0;34m)\u001b[0m\u001b[0;34m\u001b[0m\u001b[0;34m\u001b[0m\u001b[0m\n\u001b[1;32m      4\u001b[0m \u001b[0;34m\u001b[0m\u001b[0m\n\u001b[0;32m----> 5\u001b[0;31m     \u001b[0mf2\u001b[0m \u001b[0;34m=\u001b[0m \u001b[0;32mlambda\u001b[0m \u001b[0mw\u001b[0m\u001b[0;34m,\u001b[0m \u001b[0m_\u001b[0m\u001b[0;34m=\u001b[0m\u001b[0;32mNone\u001b[0m\u001b[0;34m:\u001b[0m \u001b[0msoftmax2d\u001b[0m\u001b[0;34m(\u001b[0m\u001b[0mnormalize_max1\u001b[0m\u001b[0;34m(\u001b[0m\u001b[0;34m-\u001b[0m\u001b[0mw\u001b[0m\u001b[0;34m)\u001b[0m\u001b[0;34m)\u001b[0m \u001b[0;34m*\u001b[0m \u001b[0mlen\u001b[0m\u001b[0;34m(\u001b[0m\u001b[0mw\u001b[0m\u001b[0;34m[\u001b[0m\u001b[0;36m0\u001b[0m\u001b[0;34m]\u001b[0m\u001b[0;34m)\u001b[0m\u001b[0;34m\u001b[0m\u001b[0;34m\u001b[0m\u001b[0m\n\u001b[0m\u001b[1;32m      6\u001b[0m \u001b[0;34m\u001b[0m\u001b[0m\n\u001b[1;32m      7\u001b[0m     \u001b[0mcorrect\u001b[0m\u001b[0;34m,\u001b[0m \u001b[0mall\u001b[0m \u001b[0;34m=\u001b[0m \u001b[0;36m0\u001b[0m\u001b[0;34m,\u001b[0m\u001b[0;36m0\u001b[0m\u001b[0;34m\u001b[0m\u001b[0;34m\u001b[0m\u001b[0m\n",
      "\u001b[0;32m<ipython-input-8-c4549541a752>\u001b[0m in \u001b[0;36mnormalize_max1\u001b[0;34m(w)\u001b[0m\n\u001b[1;32m      1\u001b[0m \u001b[0;32mdef\u001b[0m \u001b[0mnormalize_max1\u001b[0m\u001b[0;34m(\u001b[0m\u001b[0mw\u001b[0m\u001b[0;34m)\u001b[0m\u001b[0;34m:\u001b[0m\u001b[0;34m\u001b[0m\u001b[0;34m\u001b[0m\u001b[0m\n\u001b[1;32m      2\u001b[0m     \u001b[0;32mfor\u001b[0m \u001b[0mi\u001b[0m \u001b[0;32min\u001b[0m \u001b[0mrange\u001b[0m\u001b[0;34m(\u001b[0m\u001b[0mlen\u001b[0m\u001b[0;34m(\u001b[0m\u001b[0mw\u001b[0m\u001b[0;34m)\u001b[0m\u001b[0;34m)\u001b[0m\u001b[0;34m:\u001b[0m\u001b[0;34m\u001b[0m\u001b[0;34m\u001b[0m\u001b[0m\n\u001b[0;32m----> 3\u001b[0;31m         \u001b[0mw\u001b[0m\u001b[0;34m[\u001b[0m\u001b[0mi\u001b[0m\u001b[0;34m]\u001b[0m \u001b[0;34m=\u001b[0m \u001b[0mw\u001b[0m\u001b[0;34m[\u001b[0m\u001b[0mi\u001b[0m\u001b[0;34m]\u001b[0m \u001b[0;34m/\u001b[0m \u001b[0mtorch\u001b[0m\u001b[0;34m.\u001b[0m\u001b[0mmax\u001b[0m\u001b[0;34m(\u001b[0m\u001b[0mabs\u001b[0m\u001b[0;34m(\u001b[0m\u001b[0mw\u001b[0m\u001b[0;34m[\u001b[0m\u001b[0mi\u001b[0m\u001b[0;34m]\u001b[0m\u001b[0;34m)\u001b[0m\u001b[0;34m)\u001b[0m\u001b[0;34m\u001b[0m\u001b[0;34m\u001b[0m\u001b[0m\n\u001b[0m\u001b[1;32m      4\u001b[0m     \u001b[0;32mreturn\u001b[0m \u001b[0mw\u001b[0m\u001b[0;34m\u001b[0m\u001b[0;34m\u001b[0m\u001b[0m\n\u001b[1;32m      5\u001b[0m \u001b[0;34m\u001b[0m\u001b[0m\n",
      "\u001b[0;31mKeyboardInterrupt\u001b[0m: "
     ]
    }
   ],
   "source": [
    "# std : 0.1\n",
    "# Accuracy : 0.9977\n",
    "\n",
    "from tqdm import tqdm\n",
    "teacher_model = teacher_model.cuda()\n",
    "teacher_model.eval()\n",
    "for std in range(9,0, -1):\n",
    "    print(f'std : {std/100}')\n",
    "    dd = lrp_normalize(teacher_model, test_loader, std/100)"
   ]
  },
  {
   "cell_type": "code",
   "execution_count": 15,
   "id": "12b18351",
   "metadata": {
    "ExecuteTime": {
     "end_time": "2022-03-02T14:03:13.509457Z",
     "start_time": "2022-03-02T14:03:13.507307Z"
    }
   },
   "outputs": [],
   "source": []
  },
  {
   "cell_type": "code",
   "execution_count": 12,
   "id": "52b648c2",
   "metadata": {
    "ExecuteTime": {
     "end_time": "2022-03-02T13:18:57.031493Z",
     "start_time": "2022-03-02T13:18:57.026121Z"
    }
   },
   "outputs": [
    {
     "data": {
      "text/plain": [
       "torch.Size([16, 3, 224, 224])"
      ]
     },
     "execution_count": 12,
     "metadata": {},
     "output_type": "execute_result"
    }
   ],
   "source": [
    "dd[0].shape"
   ]
  },
  {
   "cell_type": "code",
   "execution_count": 35,
   "id": "c601f43c",
   "metadata": {
    "ExecuteTime": {
     "end_time": "2022-03-02T13:26:39.721492Z",
     "start_time": "2022-03-02T13:26:39.700531Z"
    },
    "scrolled": false
   },
   "outputs": [
    {
     "ename": "TypeError",
     "evalue": "'NoneType' object is not subscriptable",
     "output_type": "error",
     "traceback": [
      "\u001b[0;31m---------------------------------------------------------------------------\u001b[0m",
      "\u001b[0;31mTypeError\u001b[0m                                 Traceback (most recent call last)",
      "\u001b[0;32m<ipython-input-35-e62a59a621dd>\u001b[0m in \u001b[0;36m<module>\u001b[0;34m\u001b[0m\n\u001b[1;32m      3\u001b[0m     \u001b[0;32mreturn\u001b[0m \u001b[0mtorch\u001b[0m\u001b[0;34m.\u001b[0m\u001b[0mcat\u001b[0m\u001b[0;34m(\u001b[0m\u001b[0;34m(\u001b[0m\u001b[0mimg\u001b[0m\u001b[0;34m[\u001b[0m\u001b[0;36m0\u001b[0m\u001b[0;34m]\u001b[0m\u001b[0;34m.\u001b[0m\u001b[0munsqueeze\u001b[0m\u001b[0;34m(\u001b[0m\u001b[0;34m-\u001b[0m\u001b[0;36m1\u001b[0m\u001b[0;34m)\u001b[0m\u001b[0;34m,\u001b[0m \u001b[0mimg\u001b[0m\u001b[0;34m[\u001b[0m\u001b[0;36m1\u001b[0m\u001b[0;34m]\u001b[0m\u001b[0;34m.\u001b[0m\u001b[0munsqueeze\u001b[0m\u001b[0;34m(\u001b[0m\u001b[0;34m-\u001b[0m\u001b[0;36m1\u001b[0m\u001b[0;34m)\u001b[0m\u001b[0;34m,\u001b[0m \u001b[0mimg\u001b[0m\u001b[0;34m[\u001b[0m\u001b[0;36m2\u001b[0m\u001b[0;34m]\u001b[0m\u001b[0;34m.\u001b[0m\u001b[0munsqueeze\u001b[0m\u001b[0;34m(\u001b[0m\u001b[0;34m-\u001b[0m\u001b[0;36m1\u001b[0m\u001b[0;34m)\u001b[0m\u001b[0;34m)\u001b[0m\u001b[0;34m,\u001b[0m \u001b[0mdim\u001b[0m\u001b[0;34m=\u001b[0m\u001b[0;34m-\u001b[0m\u001b[0;36m1\u001b[0m\u001b[0;34m)\u001b[0m\u001b[0;34m\u001b[0m\u001b[0;34m\u001b[0m\u001b[0m\n\u001b[1;32m      4\u001b[0m \u001b[0;34m\u001b[0m\u001b[0m\n\u001b[0;32m----> 5\u001b[0;31m \u001b[0mplt\u001b[0m\u001b[0;34m.\u001b[0m\u001b[0mimshow\u001b[0m\u001b[0;34m(\u001b[0m\u001b[0mchange_format\u001b[0m\u001b[0;34m(\u001b[0m\u001b[0mdd\u001b[0m\u001b[0;34m[\u001b[0m\u001b[0;36m1\u001b[0m\u001b[0;34m]\u001b[0m\u001b[0;34m[\u001b[0m\u001b[0;36m8\u001b[0m\u001b[0;34m]\u001b[0m\u001b[0;34m)\u001b[0m\u001b[0;34m.\u001b[0m\u001b[0mcpu\u001b[0m\u001b[0;34m(\u001b[0m\u001b[0;34m)\u001b[0m\u001b[0;34m.\u001b[0m\u001b[0mdetach\u001b[0m\u001b[0;34m(\u001b[0m\u001b[0;34m)\u001b[0m\u001b[0;34m.\u001b[0m\u001b[0mnumpy\u001b[0m\u001b[0;34m(\u001b[0m\u001b[0;34m)\u001b[0m\u001b[0;34m.\u001b[0m\u001b[0mreshape\u001b[0m\u001b[0;34m(\u001b[0m\u001b[0;36m224\u001b[0m\u001b[0;34m,\u001b[0m\u001b[0;36m224\u001b[0m\u001b[0;34m,\u001b[0m\u001b[0;36m3\u001b[0m\u001b[0;34m)\u001b[0m\u001b[0;34m)\u001b[0m\u001b[0;34m\u001b[0m\u001b[0;34m\u001b[0m\u001b[0m\n\u001b[0m",
      "\u001b[0;31mTypeError\u001b[0m: 'NoneType' object is not subscriptable"
     ]
    }
   ],
   "source": [
    "from matplotlib import pyplot as plt\n",
    "def change_format(img):\n",
    "    return torch.cat((img[0].unsqueeze(-1), img[1].unsqueeze(-1), img[2].unsqueeze(-1)), dim=-1)\n",
    "\n",
    "plt.imshow(change_format(dd[1][8]).cpu().detach().numpy().reshape(224,224,3))"
   ]
  },
  {
   "cell_type": "code",
   "execution_count": 24,
   "id": "42f08e74",
   "metadata": {
    "ExecuteTime": {
     "end_time": "2022-03-02T13:25:33.859620Z",
     "start_time": "2022-03-02T13:25:33.765612Z"
    }
   },
   "outputs": [],
   "source": [
    "for i, (imgs , labels) in enumerate(train_loader):\n",
    "        imgs = imgs.to(device)\n",
    "        labels = labels.to(device)\n",
    "        break"
   ]
  },
  {
   "cell_type": "code",
   "execution_count": 26,
   "id": "20473a65",
   "metadata": {
    "ExecuteTime": {
     "end_time": "2022-03-02T13:25:44.083241Z",
     "start_time": "2022-03-02T13:25:44.077430Z"
    }
   },
   "outputs": [
    {
     "data": {
      "text/plain": [
       "torch.Size([40, 3, 224, 224])"
      ]
     },
     "execution_count": 26,
     "metadata": {},
     "output_type": "execute_result"
    }
   ],
   "source": [
    "imgs.shape"
   ]
  }
 ],
 "metadata": {
  "kernelspec": {
   "display_name": "Python 3",
   "language": "python",
   "name": "python3"
  },
  "language_info": {
   "codemirror_mode": {
    "name": "ipython",
    "version": 3
   },
   "file_extension": ".py",
   "mimetype": "text/x-python",
   "name": "python",
   "nbconvert_exporter": "python",
   "pygments_lexer": "ipython3",
   "version": "3.8.10"
  },
  "toc": {
   "base_numbering": 1,
   "nav_menu": {},
   "number_sections": false,
   "sideBar": true,
   "skip_h1_title": false,
   "title_cell": "Table of Contents",
   "title_sidebar": "Contents",
   "toc_cell": false,
   "toc_position": {},
   "toc_section_display": true,
   "toc_window_display": false
  }
 },
 "nbformat": 4,
 "nbformat_minor": 5
}
