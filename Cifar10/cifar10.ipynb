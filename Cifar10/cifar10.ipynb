{
 "cells": [
  {
   "cell_type": "code",
   "execution_count": 4,
   "id": "fab4a6bc",
   "metadata": {
    "ExecuteTime": {
     "end_time": "2022-03-03T07:48:35.893172Z",
     "start_time": "2022-03-03T07:48:35.889819Z"
    }
   },
   "outputs": [],
   "source": [
    "import os\n",
    "os.environ[\"CUDA_VISIBLE_DEVICES\"]=\"1\"\n",
    "\n"
   ]
  },
  {
   "cell_type": "code",
   "execution_count": 5,
   "id": "fea9e161",
   "metadata": {
    "ExecuteTime": {
     "end_time": "2022-03-03T07:48:36.735227Z",
     "start_time": "2022-03-03T07:48:36.729229Z"
    }
   },
   "outputs": [
    {
     "name": "stdout",
     "output_type": "stream",
     "text": [
      "cuda\n"
     ]
    }
   ],
   "source": [
    "import torch\n",
    "import torch.nn as nn\n",
    "import torch.nn.functional as F\n",
    "import torchvision\n",
    "import torchvision.transforms as transforms\n",
    "from torchvision import models\n",
    "import numpy as np\n",
    "import pandas as pd\n",
    "import matplotlib.pyplot as plt\n",
    "import seaborn as sns\n",
    "device = torch.device(\"cuda\" if torch.cuda.is_available() else \"cpu\")\n",
    "print(device)\n",
    "num_epochs = 50\n",
    "batch_size = 40\n",
    "learning_rate = 0.001\n",
    "classes = ('plane', 'car' , 'bird',\n",
    "    'cat', 'deer', 'dog',\n",
    "    'frog', 'horse', 'ship', 'truck')"
   ]
  },
  {
   "cell_type": "code",
   "execution_count": 6,
   "id": "2a05d248",
   "metadata": {
    "ExecuteTime": {
     "end_time": "2022-03-03T07:48:38.722810Z",
     "start_time": "2022-03-03T07:48:37.289699Z"
    }
   },
   "outputs": [
    {
     "name": "stdout",
     "output_type": "stream",
     "text": [
      "Files already downloaded and verified\n",
      "Files already downloaded and verified\n"
     ]
    }
   ],
   "source": [
    "transform = transforms.Compose([\n",
    "    transforms.Resize(size=(224, 224)),\n",
    "    transforms.ToTensor(),\n",
    "    transforms.Normalize( \n",
    "       (0.4914, 0.4822, 0.4465), (0.2023, 0.1994, 0.2010) \n",
    "    )\n",
    "])\n",
    "train_dataset = torchvision.datasets.CIFAR10(\n",
    "    root= './data', train = True,\n",
    "    download =True, transform = transform)\n",
    "test_dataset = torchvision.datasets.CIFAR10(\n",
    "    root= './data', train = False,\n",
    "    download =True, transform = transform)\n"
   ]
  },
  {
   "cell_type": "code",
   "execution_count": 7,
   "id": "4bb75690",
   "metadata": {
    "ExecuteTime": {
     "end_time": "2022-03-03T07:48:38.729187Z",
     "start_time": "2022-03-03T07:48:38.724759Z"
    }
   },
   "outputs": [
    {
     "name": "stdout",
     "output_type": "stream",
     "text": [
      "1250\n"
     ]
    }
   ],
   "source": [
    "train_loader = torch.utils.data.DataLoader(train_dataset\n",
    "    , batch_size = batch_size\n",
    "    , shuffle = True)\n",
    "test_loader = torch.utils.data.DataLoader(test_dataset\n",
    "    , batch_size = batch_size\n",
    "    , shuffle = True)\n",
    "n_total_step = len(train_loader)\n",
    "print(n_total_step)\n"
   ]
  },
  {
   "cell_type": "code",
   "execution_count": 8,
   "id": "0b6c3c3e",
   "metadata": {
    "ExecuteTime": {
     "end_time": "2022-03-03T07:48:44.448983Z",
     "start_time": "2022-03-03T07:48:39.044481Z"
    }
   },
   "outputs": [],
   "source": [
    "model = models.vgg16(pretrained = True)\n",
    "input_lastLayer = model.classifier[6].in_features\n",
    "model.classifier[6] = nn.Linear(input_lastLayer,10)\n",
    "model = model.to(device)\n",
    "criterion = nn.CrossEntropyLoss()\n",
    "optimizer = torch.optim.SGD(model.parameters(), lr = learning_rate, momentum=0.9,weight_decay=5e-4)\n"
   ]
  },
  {
   "cell_type": "code",
   "execution_count": 9,
   "id": "f003b4db",
   "metadata": {
    "ExecuteTime": {
     "end_time": "2022-03-03T12:38:35.846677Z",
     "start_time": "2022-03-03T07:48:45.187882Z"
    },
    "scrolled": true
   },
   "outputs": [
    {
     "name": "stdout",
     "output_type": "stream",
     "text": [
      "epoch 1/50, step: 250/1250: loss = 0.53717, acc = 74.27%\n",
      "epoch 1/50, step: 500/1250: loss = 0.55956, acc = 79.51%\n",
      "epoch 1/50, step: 750/1250: loss = 0.28107, acc = 82.15%\n",
      "epoch 1/50, step: 1000/1250: loss = 0.38966, acc = 83.80%\n",
      "epoch 1/50, step: 1250/1250: loss = 0.25437, acc = 85.00%\n",
      "Overall accuracy 89.92%\n",
      "\n",
      "epoch 2/50, step: 250/1250: loss = 0.31646, acc = 92.68%\n",
      "epoch 2/50, step: 500/1250: loss = 0.24950, acc = 92.33%\n",
      "epoch 2/50, step: 750/1250: loss = 0.09811, acc = 92.54%\n",
      "epoch 2/50, step: 1000/1250: loss = 0.24191, acc = 92.62%\n",
      "epoch 2/50, step: 1250/1250: loss = 0.09769, acc = 92.77%\n",
      "Overall accuracy 89.73%\n",
      "\n",
      "epoch 3/50, step: 250/1250: loss = 0.12554, acc = 95.36%\n",
      "epoch 3/50, step: 500/1250: loss = 0.09817, acc = 95.33%\n",
      "epoch 3/50, step: 750/1250: loss = 0.15108, acc = 95.23%\n",
      "epoch 3/50, step: 1000/1250: loss = 0.09392, acc = 95.26%\n",
      "epoch 3/50, step: 1250/1250: loss = 0.07113, acc = 95.30%\n",
      "Overall accuracy 91.97999999999999%\n",
      "\n",
      "epoch 4/50, step: 250/1250: loss = 0.04867, acc = 97.06%\n",
      "epoch 4/50, step: 500/1250: loss = 0.23783, acc = 97.03%\n",
      "epoch 4/50, step: 750/1250: loss = 0.04931, acc = 97.01%\n",
      "epoch 4/50, step: 1000/1250: loss = 0.06130, acc = 96.97%\n",
      "epoch 4/50, step: 1250/1250: loss = 0.25244, acc = 96.90%\n",
      "Overall accuracy 90.53%\n",
      "\n",
      "epoch 5/50, step: 250/1250: loss = 0.01047, acc = 98.01%\n",
      "epoch 5/50, step: 500/1250: loss = 0.05433, acc = 98.09%\n",
      "epoch 5/50, step: 750/1250: loss = 0.02480, acc = 97.93%\n",
      "epoch 5/50, step: 1000/1250: loss = 0.02481, acc = 97.86%\n",
      "epoch 5/50, step: 1250/1250: loss = 0.15233, acc = 97.78%\n",
      "Overall accuracy 93.07%\n",
      "\n",
      "epoch 6/50, step: 250/1250: loss = 0.01580, acc = 98.88%\n",
      "epoch 6/50, step: 500/1250: loss = 0.05061, acc = 98.76%\n",
      "epoch 6/50, step: 750/1250: loss = 0.00133, acc = 98.71%\n",
      "epoch 6/50, step: 1000/1250: loss = 0.00819, acc = 98.59%\n",
      "epoch 6/50, step: 1250/1250: loss = 0.10127, acc = 98.51%\n",
      "Overall accuracy 91.58%\n",
      "\n",
      "epoch 7/50, step: 250/1250: loss = 0.02746, acc = 99.07%\n",
      "epoch 7/50, step: 500/1250: loss = 0.00618, acc = 99.02%\n",
      "epoch 7/50, step: 750/1250: loss = 0.00982, acc = 99.00%\n",
      "epoch 7/50, step: 1000/1250: loss = 0.01186, acc = 98.86%\n",
      "epoch 7/50, step: 1250/1250: loss = 0.00460, acc = 98.81%\n",
      "Overall accuracy 92.78999999999999%\n",
      "\n",
      "epoch 8/50, step: 250/1250: loss = 0.01239, acc = 99.40%\n",
      "epoch 8/50, step: 500/1250: loss = 0.02158, acc = 99.27%\n",
      "epoch 8/50, step: 750/1250: loss = 0.00140, acc = 99.19%\n",
      "epoch 8/50, step: 1000/1250: loss = 0.00949, acc = 99.18%\n",
      "epoch 8/50, step: 1250/1250: loss = 0.01778, acc = 99.07%\n",
      "Overall accuracy 92.55%\n",
      "\n",
      "epoch 9/50, step: 250/1250: loss = 0.10151, acc = 99.37%\n",
      "epoch 9/50, step: 500/1250: loss = 0.03571, acc = 99.36%\n",
      "epoch 9/50, step: 750/1250: loss = 0.00182, acc = 99.36%\n",
      "epoch 9/50, step: 1000/1250: loss = 0.04395, acc = 99.28%\n",
      "epoch 9/50, step: 1250/1250: loss = 0.15747, acc = 99.25%\n",
      "Overall accuracy 92.04%\n",
      "\n",
      "epoch 10/50, step: 250/1250: loss = 0.04169, acc = 99.38%\n",
      "epoch 10/50, step: 500/1250: loss = 0.00549, acc = 99.48%\n",
      "epoch 10/50, step: 750/1250: loss = 0.02660, acc = 99.43%\n",
      "epoch 10/50, step: 1000/1250: loss = 0.00017, acc = 99.42%\n",
      "epoch 10/50, step: 1250/1250: loss = 0.01321, acc = 99.41%\n",
      "Overall accuracy 93.25%\n",
      "\n",
      "epoch 11/50, step: 250/1250: loss = 0.00067, acc = 99.66%\n",
      "epoch 11/50, step: 500/1250: loss = 0.02021, acc = 99.58%\n",
      "epoch 11/50, step: 750/1250: loss = 0.00189, acc = 99.52%\n",
      "epoch 11/50, step: 1000/1250: loss = 0.00119, acc = 99.52%\n",
      "epoch 11/50, step: 1250/1250: loss = 0.00256, acc = 99.48%\n",
      "Overall accuracy 93.25%\n",
      "\n",
      "epoch 12/50, step: 250/1250: loss = 0.00058, acc = 99.76%\n",
      "epoch 12/50, step: 500/1250: loss = 0.01970, acc = 99.79%\n",
      "epoch 12/50, step: 750/1250: loss = 0.00164, acc = 99.66%\n",
      "epoch 12/50, step: 1000/1250: loss = 0.01353, acc = 99.65%\n",
      "epoch 12/50, step: 1250/1250: loss = 0.00016, acc = 99.63%\n",
      "Overall accuracy 93.27%\n",
      "\n",
      "epoch 13/50, step: 250/1250: loss = 0.00385, acc = 99.84%\n",
      "epoch 13/50, step: 500/1250: loss = 0.00096, acc = 99.70%\n",
      "epoch 13/50, step: 750/1250: loss = 0.00361, acc = 99.64%\n",
      "epoch 13/50, step: 1000/1250: loss = 0.01363, acc = 99.63%\n",
      "epoch 13/50, step: 1250/1250: loss = 0.00050, acc = 99.64%\n",
      "Overall accuracy 93.45%\n",
      "\n",
      "epoch 14/50, step: 250/1250: loss = 0.00037, acc = 99.89%\n",
      "epoch 14/50, step: 500/1250: loss = 0.00349, acc = 99.82%\n",
      "epoch 14/50, step: 750/1250: loss = 0.00157, acc = 99.77%\n",
      "epoch 14/50, step: 1000/1250: loss = 0.00223, acc = 99.71%\n",
      "epoch 14/50, step: 1250/1250: loss = 0.00117, acc = 99.70%\n",
      "Overall accuracy 93.04%\n",
      "\n",
      "epoch 15/50, step: 250/1250: loss = 0.00007, acc = 99.94%\n",
      "epoch 15/50, step: 500/1250: loss = 0.00057, acc = 99.89%\n",
      "epoch 15/50, step: 750/1250: loss = 0.00083, acc = 99.83%\n",
      "epoch 15/50, step: 1000/1250: loss = 0.00350, acc = 99.80%\n",
      "epoch 15/50, step: 1250/1250: loss = 0.00243, acc = 99.79%\n",
      "Overall accuracy 93.43%\n",
      "\n",
      "epoch 16/50, step: 250/1250: loss = 0.00090, acc = 99.91%\n",
      "epoch 16/50, step: 500/1250: loss = 0.00041, acc = 99.81%\n",
      "epoch 16/50, step: 750/1250: loss = 0.00181, acc = 99.81%\n",
      "epoch 16/50, step: 1000/1250: loss = 0.00038, acc = 99.84%\n",
      "epoch 16/50, step: 1250/1250: loss = 0.00020, acc = 99.85%\n",
      "Overall accuracy 93.67%\n",
      "\n",
      "epoch 17/50, step: 250/1250: loss = 0.01939, acc = 99.86%\n",
      "epoch 17/50, step: 500/1250: loss = 0.00020, acc = 99.80%\n",
      "epoch 17/50, step: 750/1250: loss = 0.01393, acc = 99.84%\n",
      "epoch 17/50, step: 1000/1250: loss = 0.00111, acc = 99.87%\n",
      "epoch 17/50, step: 1250/1250: loss = 0.00080, acc = 99.88%\n",
      "Overall accuracy 93.56%\n",
      "\n",
      "epoch 18/50, step: 250/1250: loss = 0.01314, acc = 99.19%\n",
      "epoch 18/50, step: 500/1250: loss = 0.00574, acc = 99.48%\n",
      "epoch 18/50, step: 750/1250: loss = 0.00307, acc = 99.58%\n",
      "epoch 18/50, step: 1000/1250: loss = 0.00031, acc = 99.61%\n",
      "epoch 18/50, step: 1250/1250: loss = 0.00008, acc = 99.65%\n",
      "Overall accuracy 93.08%\n",
      "\n",
      "epoch 19/50, step: 250/1250: loss = 0.01128, acc = 99.89%\n",
      "epoch 19/50, step: 500/1250: loss = 0.00009, acc = 99.86%\n",
      "epoch 19/50, step: 750/1250: loss = 0.02460, acc = 99.86%\n",
      "epoch 19/50, step: 1000/1250: loss = 0.00063, acc = 99.88%\n",
      "epoch 19/50, step: 1250/1250: loss = 0.00121, acc = 99.85%\n",
      "Overall accuracy 92.80000000000001%\n",
      "\n",
      "epoch 20/50, step: 250/1250: loss = 0.00011, acc = 99.68%\n",
      "epoch 20/50, step: 500/1250: loss = 0.00487, acc = 99.79%\n",
      "epoch 20/50, step: 750/1250: loss = 0.00127, acc = 99.84%\n",
      "epoch 20/50, step: 1000/1250: loss = 0.00010, acc = 99.87%\n",
      "epoch 20/50, step: 1250/1250: loss = 0.00155, acc = 99.86%\n",
      "Overall accuracy 92.34%\n",
      "\n",
      "epoch 21/50, step: 250/1250: loss = 0.00119, acc = 99.78%\n",
      "epoch 21/50, step: 500/1250: loss = 0.00056, acc = 99.86%\n",
      "epoch 21/50, step: 750/1250: loss = 0.00022, acc = 99.82%\n",
      "epoch 21/50, step: 1000/1250: loss = 0.00055, acc = 99.84%\n",
      "epoch 21/50, step: 1250/1250: loss = 0.00088, acc = 99.84%\n",
      "Overall accuracy 93.58%\n",
      "\n",
      "epoch 22/50, step: 250/1250: loss = 0.00024, acc = 99.96%\n",
      "epoch 22/50, step: 500/1250: loss = 0.00337, acc = 99.93%\n",
      "epoch 22/50, step: 750/1250: loss = 0.00038, acc = 99.95%\n",
      "epoch 22/50, step: 1000/1250: loss = 0.00013, acc = 99.95%\n",
      "epoch 22/50, step: 1250/1250: loss = 0.00040, acc = 99.96%\n",
      "Overall accuracy 93.49%\n",
      "\n",
      "epoch 23/50, step: 250/1250: loss = 0.00086, acc = 100.00%\n",
      "epoch 23/50, step: 500/1250: loss = 0.00002, acc = 100.00%\n",
      "epoch 23/50, step: 750/1250: loss = 0.00069, acc = 99.98%\n",
      "epoch 23/50, step: 1000/1250: loss = 0.00059, acc = 99.97%\n",
      "epoch 23/50, step: 1250/1250: loss = 0.04659, acc = 99.95%\n",
      "Overall accuracy 93.36%\n",
      "\n",
      "epoch 24/50, step: 250/1250: loss = 0.00060, acc = 99.94%\n",
      "epoch 24/50, step: 500/1250: loss = 0.00017, acc = 99.94%\n",
      "epoch 24/50, step: 750/1250: loss = 0.00003, acc = 99.94%\n",
      "epoch 24/50, step: 1000/1250: loss = 0.00011, acc = 99.93%\n",
      "epoch 24/50, step: 1250/1250: loss = 0.00008, acc = 99.94%\n",
      "Overall accuracy 93.77%\n",
      "\n",
      "epoch 25/50, step: 250/1250: loss = 0.00171, acc = 100.00%\n",
      "epoch 25/50, step: 500/1250: loss = 0.02544, acc = 99.84%\n",
      "epoch 25/50, step: 750/1250: loss = 0.00143, acc = 99.78%\n",
      "epoch 25/50, step: 1000/1250: loss = 0.00127, acc = 99.82%\n",
      "epoch 25/50, step: 1250/1250: loss = 0.00046, acc = 99.85%\n",
      "Overall accuracy 94.15%\n",
      "\n",
      "epoch 26/50, step: 250/1250: loss = 0.00036, acc = 100.00%\n",
      "epoch 26/50, step: 500/1250: loss = 0.00972, acc = 99.96%\n",
      "epoch 26/50, step: 750/1250: loss = 0.00023, acc = 99.96%\n",
      "epoch 26/50, step: 1000/1250: loss = 0.00010, acc = 99.96%\n",
      "epoch 26/50, step: 1250/1250: loss = 0.00441, acc = 99.94%\n"
     ]
    },
    {
     "name": "stdout",
     "output_type": "stream",
     "text": [
      "Overall accuracy 92.99%\n",
      "\n",
      "epoch 27/50, step: 250/1250: loss = 0.00305, acc = 99.96%\n",
      "epoch 27/50, step: 500/1250: loss = 0.00007, acc = 99.97%\n",
      "epoch 27/50, step: 750/1250: loss = 0.02011, acc = 99.92%\n",
      "epoch 27/50, step: 1000/1250: loss = 0.00030, acc = 99.89%\n",
      "epoch 27/50, step: 1250/1250: loss = 0.00064, acc = 99.91%\n",
      "Overall accuracy 94.01%\n",
      "\n",
      "epoch 28/50, step: 250/1250: loss = 0.00025, acc = 99.99%\n",
      "epoch 28/50, step: 500/1250: loss = 0.00149, acc = 99.95%\n",
      "epoch 28/50, step: 750/1250: loss = 0.00056, acc = 99.94%\n",
      "epoch 28/50, step: 1000/1250: loss = 0.00004, acc = 99.94%\n",
      "epoch 28/50, step: 1250/1250: loss = 0.00038, acc = 99.96%\n",
      "Overall accuracy 94.01%\n",
      "\n",
      "epoch 29/50, step: 250/1250: loss = 0.00042, acc = 99.99%\n",
      "epoch 29/50, step: 500/1250: loss = 0.00055, acc = 100.00%\n",
      "epoch 29/50, step: 750/1250: loss = 0.00009, acc = 100.00%\n",
      "epoch 29/50, step: 1000/1250: loss = 0.00253, acc = 99.98%\n",
      "epoch 29/50, step: 1250/1250: loss = 0.00009, acc = 99.97%\n",
      "Overall accuracy 93.39%\n",
      "\n",
      "epoch 30/50, step: 250/1250: loss = 0.00046, acc = 99.94%\n",
      "epoch 30/50, step: 500/1250: loss = 0.00012, acc = 99.96%\n",
      "epoch 30/50, step: 750/1250: loss = 0.00008, acc = 99.96%\n",
      "epoch 30/50, step: 1000/1250: loss = 0.00027, acc = 99.95%\n",
      "epoch 30/50, step: 1250/1250: loss = 0.00016, acc = 99.94%\n",
      "Overall accuracy 93.89999999999999%\n",
      "\n",
      "epoch 31/50, step: 250/1250: loss = 0.00011, acc = 100.00%\n",
      "epoch 31/50, step: 500/1250: loss = 0.02668, acc = 99.97%\n",
      "epoch 31/50, step: 750/1250: loss = 0.00916, acc = 99.91%\n",
      "epoch 31/50, step: 1000/1250: loss = 0.03748, acc = 99.84%\n",
      "epoch 31/50, step: 1250/1250: loss = 0.00049, acc = 99.83%\n",
      "Overall accuracy 94.02000000000001%\n",
      "\n",
      "epoch 32/50, step: 250/1250: loss = 0.00039, acc = 99.97%\n",
      "epoch 32/50, step: 500/1250: loss = 0.00441, acc = 99.97%\n",
      "epoch 32/50, step: 750/1250: loss = 0.00027, acc = 99.97%\n",
      "epoch 32/50, step: 1000/1250: loss = 0.00031, acc = 99.97%\n",
      "epoch 32/50, step: 1250/1250: loss = 0.00015, acc = 99.96%\n",
      "Overall accuracy 94.0%\n",
      "\n",
      "epoch 33/50, step: 250/1250: loss = 0.00015, acc = 99.99%\n",
      "epoch 33/50, step: 500/1250: loss = 0.00077, acc = 99.88%\n",
      "epoch 33/50, step: 750/1250: loss = 0.00083, acc = 99.87%\n",
      "epoch 33/50, step: 1000/1250: loss = 0.00022, acc = 99.90%\n",
      "epoch 33/50, step: 1250/1250: loss = 0.00031, acc = 99.91%\n",
      "Overall accuracy 93.83%\n",
      "\n",
      "epoch 34/50, step: 250/1250: loss = 0.00011, acc = 99.99%\n",
      "epoch 34/50, step: 500/1250: loss = 0.00051, acc = 99.98%\n",
      "epoch 34/50, step: 750/1250: loss = 0.00001, acc = 99.98%\n",
      "epoch 34/50, step: 1000/1250: loss = 0.00098, acc = 99.92%\n",
      "epoch 34/50, step: 1250/1250: loss = 0.00004, acc = 99.93%\n",
      "Overall accuracy 93.99%\n",
      "\n",
      "epoch 35/50, step: 250/1250: loss = 0.00092, acc = 99.85%\n",
      "epoch 35/50, step: 500/1250: loss = 0.00274, acc = 99.91%\n",
      "epoch 35/50, step: 750/1250: loss = 0.00011, acc = 99.93%\n",
      "epoch 35/50, step: 1000/1250: loss = 0.00005, acc = 99.94%\n",
      "epoch 35/50, step: 1250/1250: loss = 0.00023, acc = 99.95%\n",
      "Overall accuracy 94.41000000000001%\n",
      "\n",
      "epoch 36/50, step: 250/1250: loss = 0.00078, acc = 99.98%\n",
      "epoch 36/50, step: 500/1250: loss = 0.00165, acc = 99.86%\n",
      "epoch 36/50, step: 750/1250: loss = 0.00299, acc = 99.85%\n",
      "epoch 36/50, step: 1000/1250: loss = 0.00011, acc = 99.89%\n",
      "epoch 36/50, step: 1250/1250: loss = 0.00728, acc = 99.90%\n",
      "Overall accuracy 93.61%\n",
      "\n",
      "epoch 37/50, step: 250/1250: loss = 0.00120, acc = 99.92%\n",
      "epoch 37/50, step: 500/1250: loss = 0.01774, acc = 99.91%\n",
      "epoch 37/50, step: 750/1250: loss = 0.00227, acc = 99.83%\n",
      "epoch 37/50, step: 1000/1250: loss = 0.00108, acc = 99.80%\n",
      "epoch 37/50, step: 1250/1250: loss = 0.00006, acc = 99.84%\n",
      "Overall accuracy 93.8%\n",
      "\n",
      "epoch 38/50, step: 250/1250: loss = 0.00011, acc = 100.00%\n",
      "epoch 38/50, step: 500/1250: loss = 0.00011, acc = 99.98%\n",
      "epoch 38/50, step: 750/1250: loss = 0.00004, acc = 99.99%\n",
      "epoch 38/50, step: 1000/1250: loss = 0.00276, acc = 99.89%\n",
      "epoch 38/50, step: 1250/1250: loss = 0.00109, acc = 99.90%\n",
      "Overall accuracy 94.37%\n",
      "\n",
      "epoch 39/50, step: 250/1250: loss = 0.00020, acc = 100.00%\n",
      "epoch 39/50, step: 500/1250: loss = 0.07274, acc = 99.91%\n",
      "epoch 39/50, step: 750/1250: loss = 0.00223, acc = 99.89%\n",
      "epoch 39/50, step: 1000/1250: loss = 0.00097, acc = 99.91%\n",
      "epoch 39/50, step: 1250/1250: loss = 0.00039, acc = 99.92%\n",
      "Overall accuracy 94.19%\n",
      "\n",
      "epoch 40/50, step: 250/1250: loss = 0.00005, acc = 99.99%\n",
      "epoch 40/50, step: 500/1250: loss = 0.00014, acc = 99.99%\n",
      "epoch 40/50, step: 750/1250: loss = 0.00038, acc = 99.97%\n",
      "epoch 40/50, step: 1000/1250: loss = 0.00047, acc = 99.91%\n",
      "epoch 40/50, step: 1250/1250: loss = 0.00179, acc = 99.90%\n",
      "Overall accuracy 93.38%\n",
      "\n",
      "epoch 41/50, step: 250/1250: loss = 0.00010, acc = 99.78%\n",
      "epoch 41/50, step: 500/1250: loss = 0.00077, acc = 99.83%\n",
      "epoch 41/50, step: 750/1250: loss = 0.00869, acc = 99.81%\n",
      "epoch 41/50, step: 1000/1250: loss = 0.00012, acc = 99.84%\n",
      "epoch 41/50, step: 1250/1250: loss = 0.00019, acc = 99.80%\n",
      "Overall accuracy 93.95%\n",
      "\n",
      "epoch 42/50, step: 250/1250: loss = 0.00060, acc = 99.96%\n",
      "epoch 42/50, step: 500/1250: loss = 0.00013, acc = 99.95%\n",
      "epoch 42/50, step: 750/1250: loss = 0.00089, acc = 99.97%\n",
      "epoch 42/50, step: 1000/1250: loss = 0.00003, acc = 99.98%\n",
      "epoch 42/50, step: 1250/1250: loss = 0.00271, acc = 99.97%\n",
      "Overall accuracy 93.97%\n",
      "\n",
      "epoch 43/50, step: 250/1250: loss = 0.00031, acc = 100.00%\n",
      "epoch 43/50, step: 500/1250: loss = 0.00021, acc = 99.99%\n",
      "epoch 43/50, step: 750/1250: loss = 0.00192, acc = 99.99%\n",
      "epoch 43/50, step: 1000/1250: loss = 0.00013, acc = 100.00%\n",
      "epoch 43/50, step: 1250/1250: loss = 0.00086, acc = 100.00%\n",
      "Overall accuracy 94.19999999999999%\n",
      "\n",
      "epoch 44/50, step: 250/1250: loss = 0.00007, acc = 99.98%\n",
      "epoch 44/50, step: 500/1250: loss = 0.00038, acc = 99.97%\n",
      "epoch 44/50, step: 750/1250: loss = 0.00277, acc = 99.97%\n",
      "epoch 44/50, step: 1000/1250: loss = 0.00062, acc = 99.89%\n",
      "epoch 44/50, step: 1250/1250: loss = 0.00468, acc = 99.88%\n",
      "Overall accuracy 93.54%\n",
      "\n",
      "epoch 45/50, step: 250/1250: loss = 0.00019, acc = 99.92%\n",
      "epoch 45/50, step: 500/1250: loss = 0.00705, acc = 99.93%\n",
      "epoch 45/50, step: 750/1250: loss = 0.00796, acc = 99.90%\n",
      "epoch 45/50, step: 1000/1250: loss = 0.00611, acc = 99.90%\n",
      "epoch 45/50, step: 1250/1250: loss = 0.00127, acc = 99.86%\n",
      "Overall accuracy 93.53%\n",
      "\n",
      "epoch 46/50, step: 250/1250: loss = 0.00016, acc = 99.81%\n",
      "epoch 46/50, step: 500/1250: loss = 0.00019, acc = 99.83%\n",
      "epoch 46/50, step: 750/1250: loss = 0.00013, acc = 99.88%\n",
      "epoch 46/50, step: 1000/1250: loss = 0.00856, acc = 99.91%\n",
      "epoch 46/50, step: 1250/1250: loss = 0.00051, acc = 99.85%\n",
      "Overall accuracy 93.44%\n",
      "\n",
      "epoch 47/50, step: 250/1250: loss = 0.00131, acc = 99.92%\n",
      "epoch 47/50, step: 500/1250: loss = 0.00845, acc = 99.87%\n",
      "epoch 47/50, step: 750/1250: loss = 0.00006, acc = 99.90%\n",
      "epoch 47/50, step: 1000/1250: loss = 0.00147, acc = 99.90%\n",
      "epoch 47/50, step: 1250/1250: loss = 0.00133, acc = 99.88%\n",
      "Overall accuracy 93.95%\n",
      "\n",
      "epoch 48/50, step: 250/1250: loss = 0.00029, acc = 99.92%\n",
      "epoch 48/50, step: 500/1250: loss = 0.00027, acc = 99.94%\n",
      "epoch 48/50, step: 750/1250: loss = 0.00005, acc = 99.81%\n",
      "epoch 48/50, step: 1000/1250: loss = 0.01249, acc = 99.79%\n",
      "epoch 48/50, step: 1250/1250: loss = 0.00265, acc = 99.80%\n",
      "Overall accuracy 93.57%\n",
      "\n",
      "epoch 49/50, step: 250/1250: loss = 0.00010, acc = 99.96%\n",
      "epoch 49/50, step: 500/1250: loss = 0.00029, acc = 99.97%\n",
      "epoch 49/50, step: 750/1250: loss = 0.01282, acc = 99.97%\n",
      "epoch 49/50, step: 1000/1250: loss = 0.00730, acc = 99.91%\n",
      "epoch 49/50, step: 1250/1250: loss = 0.00851, acc = 99.89%\n",
      "Overall accuracy 92.89%\n",
      "\n",
      "epoch 50/50, step: 250/1250: loss = 0.00035, acc = 99.97%\n",
      "epoch 50/50, step: 500/1250: loss = 0.00023, acc = 99.77%\n",
      "epoch 50/50, step: 750/1250: loss = 0.00041, acc = 99.78%\n",
      "epoch 50/50, step: 1000/1250: loss = 0.00155, acc = 99.81%\n",
      "epoch 50/50, step: 1250/1250: loss = 0.00094, acc = 99.84%\n",
      "Overall accuracy 94.06%\n",
      "\n"
     ]
    }
   ],
   "source": [
    "for epoch in range(num_epochs):\n",
    "    n_corrects = 0\n",
    "    n_labels = 0\n",
    "    for i, (imgs , labels) in enumerate(train_loader):\n",
    "        imgs = imgs.to(device)\n",
    "        labels = labels.to(device)\n",
    "\n",
    "        labels_hat = model(imgs)\n",
    "        loss_value = criterion(labels_hat, labels)\n",
    "        loss_value.backward()\n",
    "        optimizer.step()\n",
    "        optimizer.zero_grad()\n",
    "        \n",
    "        n_labels += labels.size(0)\n",
    "        n_corrects += (labels_hat.argmax(axis=1)==labels).sum().item()\n",
    "        \n",
    "        if (i+1) % 250 == 0:\n",
    "            print(f'epoch {epoch+1}/{num_epochs}, step: {i+1}/{n_total_step}: loss = {loss_value:.5f}, acc = {100*(n_corrects/n_labels):.2f}%')\n",
    "            \n",
    "    with torch.no_grad():\n",
    "        number_corrects = 0\n",
    "        number_samples = 0\n",
    "        for i, (test_images_set , test_labels_set) in enumerate(test_loader):\n",
    "            test_images_set = test_images_set.to(device)\n",
    "            test_labels_set = test_labels_set.to(device)\n",
    "\n",
    "            y_predicted = model(test_images_set)\n",
    "            labels_predicted = y_predicted.argmax(axis = 1)\n",
    "            number_corrects += (labels_predicted==test_labels_set).sum().item()\n",
    "            number_samples += test_labels_set.size(0)\n",
    "        print(f'Overall accuracy {(number_corrects / number_samples)*100}%')\n",
    "        print()\n"
   ]
  },
  {
   "cell_type": "code",
   "execution_count": null,
   "id": "1b62e952",
   "metadata": {
    "ExecuteTime": {
     "start_time": "2022-03-03T07:20:44.714Z"
    }
   },
   "outputs": [],
   "source": [
    "model = torch.load(\"cifar-10.pth\")"
   ]
  },
  {
   "cell_type": "code",
   "execution_count": 8,
   "id": "5ccd3c78",
   "metadata": {
    "ExecuteTime": {
     "end_time": "2022-03-02T15:44:37.154395Z",
     "start_time": "2022-03-02T15:44:12.220106Z"
    }
   },
   "outputs": [
    {
     "name": "stdout",
     "output_type": "stream",
     "text": [
      "Overall accuracy 93.07%\n"
     ]
    }
   ],
   "source": [
    "with torch.no_grad():\n",
    "    number_corrects = 0\n",
    "    number_samples = 0\n",
    "    for i, (test_images_set , test_labels_set) in enumerate(test_loader):\n",
    "        test_images_set = test_images_set.to(device)\n",
    "        test_labels_set = test_labels_set.to(device)\n",
    "    \n",
    "        y_predicted = model(test_images_set)\n",
    "        labels_predicted = y_predicted.argmax(axis = 1)\n",
    "        number_corrects += (labels_predicted==test_labels_set).sum().item()\n",
    "        number_samples += test_labels_set.size(0)\n",
    "    print(f'Overall accuracy {(number_corrects / number_samples)*100}%')"
   ]
  },
  {
   "cell_type": "code",
   "execution_count": 6,
   "id": "725a98d1",
   "metadata": {
    "ExecuteTime": {
     "end_time": "2022-03-02T15:43:40.134142Z",
     "start_time": "2022-03-02T15:43:14.041340Z"
    }
   },
   "outputs": [
    {
     "name": "stdout",
     "output_type": "stream",
     "text": [
      "Overall accuracy 92.74%\n"
     ]
    }
   ],
   "source": [
    "with torch.no_grad():\n",
    "    number_corrects = 0\n",
    "    number_samples = 0\n",
    "    for i, (test_images_set , test_labels_set) in enumerate(test_loader):\n",
    "        test_images_set = test_images_set.to(device)\n",
    "        test_labels_set = test_labels_set.to(device)\n",
    "    \n",
    "        y_predicted = model(test_images_set)\n",
    "        labels_predicted = y_predicted.argmax(axis = 1)\n",
    "        number_corrects += (labels_predicted==test_labels_set).sum().item()\n",
    "        number_samples += test_labels_set.size(0)\n",
    "    print(f'Overall accuracy {(number_corrects / number_samples)*100}%')"
   ]
  },
  {
   "cell_type": "code",
   "execution_count": 9,
   "id": "2a894143",
   "metadata": {
    "ExecuteTime": {
     "end_time": "2022-03-02T01:16:34.504870Z",
     "start_time": "2022-03-02T01:14:26.582274Z"
    }
   },
   "outputs": [
    {
     "name": "stdout",
     "output_type": "stream",
     "text": [
      "Overall accuracy 98.934%\n"
     ]
    }
   ],
   "source": [
    "with torch.no_grad():\n",
    "    number_corrects = 0\n",
    "    number_samples = 0\n",
    "    for i, (test_images_set , test_labels_set) in enumerate(train_loader):\n",
    "        test_images_set = test_images_set.to(device)\n",
    "        test_labels_set = test_labels_set.to(device)\n",
    "    \n",
    "        y_predicted = model(test_images_set)\n",
    "        labels_predicted = y_predicted.argmax(axis = 1)\n",
    "        number_corrects += (labels_predicted==test_labels_set).sum().item()\n",
    "        number_samples += test_labels_set.size(0)\n",
    "    print(f'Overall accuracy {(number_corrects / number_samples)*100}%')"
   ]
  },
  {
   "cell_type": "code",
   "execution_count": 10,
   "id": "a4b86806",
   "metadata": {
    "ExecuteTime": {
     "end_time": "2022-03-03T18:47:31.407155Z",
     "start_time": "2022-03-03T18:47:30.223449Z"
    }
   },
   "outputs": [],
   "source": [
    "torch.save(model, \"cifar-10_2.pth\")\n"
   ]
  },
  {
   "cell_type": "code",
   "execution_count": null,
   "id": "604b88a7",
   "metadata": {
    "ExecuteTime": {
     "end_time": "2022-03-03T07:19:34.720723Z",
     "start_time": "2022-03-03T07:19:29.127Z"
    }
   },
   "outputs": [],
   "source": [
    "uncorrect_dict = {\n",
    "    \"img_before\": [],\n",
    "    \"img_after\" : [],\n",
    "    \"softlabel_before\" : [],\n",
    "    \"softlabel_after\": []\n",
    "}\n",
    "\n",
    "# 또 틀린 애들\n",
    "uncorrect_sp_dict = {\n",
    "    \"img_before\": [],\n",
    "    \"img_after\" : [],\n",
    "    \"softlabel_before\" : [],\n",
    "    \"softlabel_after\": []\n",
    "}\n",
    "\n",
    "# 틀렸다 맞은 애들\n",
    "correct_dict = {\n",
    "    \"img_before\": [],\n",
    "    \"img_after\" : [],\n",
    "    \"softlabel_before\" : [],\n",
    "    \"softlabel_after\": []\n",
    "}"
   ]
  },
  {
   "cell_type": "code",
   "execution_count": null,
   "id": "0f45694d",
   "metadata": {},
   "outputs": [],
   "source": []
  }
 ],
 "metadata": {
  "kernelspec": {
   "display_name": "Python 3",
   "language": "python",
   "name": "python3"
  },
  "language_info": {
   "codemirror_mode": {
    "name": "ipython",
    "version": 3
   },
   "file_extension": ".py",
   "mimetype": "text/x-python",
   "name": "python",
   "nbconvert_exporter": "python",
   "pygments_lexer": "ipython3",
   "version": "3.8.10"
  },
  "toc": {
   "base_numbering": 1,
   "nav_menu": {},
   "number_sections": false,
   "sideBar": true,
   "skip_h1_title": false,
   "title_cell": "Table of Contents",
   "title_sidebar": "Contents",
   "toc_cell": false,
   "toc_position": {},
   "toc_section_display": true,
   "toc_window_display": false
  }
 },
 "nbformat": 4,
 "nbformat_minor": 5
}
