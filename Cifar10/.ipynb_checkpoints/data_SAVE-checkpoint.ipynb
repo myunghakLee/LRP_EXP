{
 "cells": [
  {
   "cell_type": "code",
   "execution_count": 1,
   "id": "83fe2e8f",
   "metadata": {
    "ExecuteTime": {
     "end_time": "2022-03-03T18:47:54.461226Z",
     "start_time": "2022-03-03T18:47:54.456798Z"
    }
   },
   "outputs": [],
   "source": [
    "import os\n",
    "os.environ[\"CUDA_VISIBLE_DEVICES\"]=\"1\"\n",
    "\n"
   ]
  },
  {
   "cell_type": "code",
   "execution_count": 2,
   "id": "ebf869db",
   "metadata": {
    "ExecuteTime": {
     "end_time": "2022-03-03T18:48:03.532943Z",
     "start_time": "2022-03-03T18:48:02.300842Z"
    }
   },
   "outputs": [
    {
     "name": "stdout",
     "output_type": "stream",
     "text": [
      "cuda\n"
     ]
    }
   ],
   "source": [
    "import torch\n",
    "import torch.nn as nn\n",
    "import torch.nn.functional as F\n",
    "import torchvision\n",
    "import torchvision.transforms as transforms\n",
    "from torchvision import models\n",
    "import numpy as np\n",
    "import pandas as pd\n",
    "import matplotlib.pyplot as plt\n",
    "import seaborn as sns\n",
    "device = torch.device(\"cuda\" if torch.cuda.is_available() else \"cpu\")\n",
    "print(device)\n",
    "num_epochs = 50\n",
    "batch_size = 40\n",
    "learning_rate = 0.001\n",
    "classes = ('plane', 'car' , 'bird',\n",
    "    'cat', 'deer', 'dog',\n",
    "    'frog', 'horse', 'ship', 'truck')"
   ]
  },
  {
   "cell_type": "code",
   "execution_count": 3,
   "id": "820a25e4",
   "metadata": {
    "ExecuteTime": {
     "end_time": "2022-03-03T18:48:31.782721Z",
     "start_time": "2022-03-03T18:48:30.343852Z"
    }
   },
   "outputs": [
    {
     "name": "stdout",
     "output_type": "stream",
     "text": [
      "Files already downloaded and verified\n",
      "Files already downloaded and verified\n"
     ]
    }
   ],
   "source": [
    "transform = transforms.Compose([\n",
    "    transforms.Resize(size=(224, 224)),\n",
    "    transforms.ToTensor(),\n",
    "    transforms.Normalize( \n",
    "       (0.4914, 0.4822, 0.4465), (0.2023, 0.1994, 0.2010) \n",
    "    )\n",
    "])\n",
    "train_dataset = torchvision.datasets.CIFAR10(\n",
    "    root= './data', train = True,\n",
    "    download =True, transform = transform)\n",
    "test_dataset = torchvision.datasets.CIFAR10(\n",
    "    root= './data', train = False,\n",
    "    download =True, transform = transform)\n"
   ]
  },
  {
   "cell_type": "code",
   "execution_count": 4,
   "id": "0de09e1c",
   "metadata": {
    "ExecuteTime": {
     "end_time": "2022-03-03T18:48:34.325223Z",
     "start_time": "2022-03-03T18:48:34.317440Z"
    }
   },
   "outputs": [
    {
     "name": "stdout",
     "output_type": "stream",
     "text": [
      "1250\n"
     ]
    }
   ],
   "source": [
    "train_loader = torch.utils.data.DataLoader(train_dataset\n",
    "    , batch_size = batch_size\n",
    "    , shuffle = True)\n",
    "test_loader = torch.utils.data.DataLoader(test_dataset\n",
    "    , batch_size = batch_size\n",
    "    , shuffle = True)\n",
    "n_total_step = len(train_loader)\n",
    "print(n_total_step)\n"
   ]
  },
  {
   "cell_type": "code",
   "execution_count": 10,
   "id": "8a348d83",
   "metadata": {
    "ExecuteTime": {
     "end_time": "2022-03-03T18:50:38.307299Z",
     "start_time": "2022-03-03T18:50:37.849460Z"
    }
   },
   "outputs": [],
   "source": [
    "model = torch.load(\"cifar-10_2.pth\")\n",
    "model = model.to(device)\n",
    "model.eval()\n",
    "criterion = nn.CrossEntropyLoss()\n",
    "optimizer = torch.optim.SGD(model.parameters(), lr = learning_rate, momentum=0.9,weight_decay=5e-4)\n"
   ]
  },
  {
   "cell_type": "code",
   "execution_count": 16,
   "id": "3658366c",
   "metadata": {
    "ExecuteTime": {
     "end_time": "2022-03-03T18:53:06.474680Z",
     "start_time": "2022-03-03T18:53:06.464948Z"
    }
   },
   "outputs": [],
   "source": [
    "from tqdm import tqdm\n",
    "\n",
    "def normalize_max1(w):\n",
    "    for i in range(len(w)):\n",
    "        w[i] = w[i] / torch.max(abs(w[i]))\n",
    "    return w\n",
    "\n",
    "to_gaussian = lambda arr, mean = 1, std = 1: ((arr - torch.mean(arr))/ (torch.std(arr) + 0.00001)) * std + mean\n",
    "\n",
    "softmax = torch.nn.Softmax(dim=1)\n",
    "softmax2d = lambda b: softmax(torch.flatten(b, start_dim = 1)).reshape(b.shape)\n",
    "f2 = lambda w, _=None: softmax2d(normalize_max1(-w)) * len(w[0])\n",
    "\n",
    "def normalize(img):\n",
    "    img = img- torch.min(img)\n",
    "    img /= (torch.max(img) + 0.01)\n",
    "    img = img* 255\n",
    "    return img.int()\n",
    "\n",
    "def change_format(img):\n",
    "    return torch.cat((img[2].unsqueeze(-1), img[1].unsqueeze(-1), img[0].unsqueeze(-1)), dim=-1)\n",
    "\n",
    "def image_unnormalize(img):\n",
    "    img = normalize(img)\n",
    "    img = change_format(img).cpu().detach().numpy().reshape(224,224,3)\n",
    "    return img\n",
    "\n",
    "\n"
   ]
  },
  {
   "cell_type": "code",
   "execution_count": 45,
   "id": "c3263091",
   "metadata": {
    "ExecuteTime": {
     "end_time": "2022-03-03T19:04:15.888420Z",
     "start_time": "2022-03-03T19:04:15.884200Z"
    }
   },
   "outputs": [],
   "source": [
    "from PIL import Image\n"
   ]
  },
  {
   "cell_type": "code",
   "execution_count": 118,
   "id": "51332cb1",
   "metadata": {
    "ExecuteTime": {
     "end_time": "2022-03-03T19:35:43.508813Z",
     "start_time": "2022-03-03T19:34:25.877243Z"
    },
    "scrolled": true
   },
   "outputs": [
    {
     "name": "stderr",
     "output_type": "stream",
     "text": [
      "100%|██████████| 250/250 [01:17<00:00,  3.23it/s]\n"
     ]
    }
   ],
   "source": [
    "correct_before, correct_after, all = 0,0, 0\n",
    "import pickle\n",
    "\n",
    "write_data = []\n",
    "\n",
    "for idx, batch in enumerate(tqdm(test_loader)):\n",
    "    img , label = batch[0].cuda(), batch[1].cuda()\n",
    "\n",
    "    img.requires_grad = True\n",
    "    img.retain_grad = True\n",
    "    \n",
    "    output = model(img)\n",
    "\n",
    "    loss = criterion(output, label)\n",
    "    loss.backward()\n",
    "    optimizer.zero_grad()\n",
    "\n",
    "    img_lrp = (img*img.grad).clone()\n",
    "    img_lrp = f2(img_lrp)\n",
    "    \n",
    "    with torch.no_grad():\n",
    "        for i in range(len(img_lrp)):\n",
    "            img_lrp[i] = to_gaussian(img_lrp[i], std = 0.1)\n",
    "\n",
    "        img_lrp = img*img_lrp # img_lrp가 음수값인것 지움\n",
    "        softlabel = model(img_lrp)\n",
    "    \n",
    "    for it in range(len(img)):\n",
    "        write_pickle = {\n",
    "            \"label\" : label[it].item(),\n",
    "            \"softlabel\" : softlabel[it].cpu().numpy(),\n",
    "            \"img\" : img[it].detach().cpu().numpy(),\n",
    "            \"lrp_img\": img_lrp[it].detach().cpu().numpy()\n",
    "        }\n",
    "        write_data.append(write_pickle)\n",
    "        \n",
    "        \n"
   ]
  },
  {
   "cell_type": "code",
   "execution_count": 119,
   "id": "baf04dd1",
   "metadata": {
    "ExecuteTime": {
     "end_time": "2022-03-03T19:35:44.842922Z",
     "start_time": "2022-03-03T19:35:43.510549Z"
    }
   },
   "outputs": [],
   "source": [
    "!mkdir MnistLRP_TEST"
   ]
  },
  {
   "cell_type": "code",
   "execution_count": 120,
   "id": "1a2aa7ec",
   "metadata": {
    "ExecuteTime": {
     "end_time": "2022-03-03T19:35:54.870116Z",
     "start_time": "2022-03-03T19:35:44.847158Z"
    }
   },
   "outputs": [
    {
     "name": "stderr",
     "output_type": "stream",
     "text": [
      "100%|██████████| 10000/10000 [00:10<00:00, 998.56it/s]\n"
     ]
    }
   ],
   "source": [
    "for idx, d in enumerate(tqdm(write_data)):\n",
    "    with open(\"MnistLRP_TEST/\" + str(idx).zfill(6) + \".pickle\", \"wb\") as f:\n",
    "        pickle.dump(d, f)\n",
    "\n",
    "    "
   ]
  },
  {
   "cell_type": "code",
   "execution_count": 61,
   "id": "c463eaaf",
   "metadata": {
    "ExecuteTime": {
     "end_time": "2022-03-03T19:06:38.495215Z",
     "start_time": "2022-03-03T19:06:38.477248Z"
    }
   },
   "outputs": [
    {
     "ename": "TypeError",
     "evalue": "Cannot handle this data type: (1, 1, 224), <i4",
     "output_type": "error",
     "traceback": [
      "\u001b[0;31m---------------------------------------------------------------------------\u001b[0m",
      "\u001b[0;31mKeyError\u001b[0m                                  Traceback (most recent call last)",
      "\u001b[0;32m/opt/conda/lib/python3.8/site-packages/PIL/Image.py\u001b[0m in \u001b[0;36mfromarray\u001b[0;34m(obj, mode)\u001b[0m\n\u001b[1;32m   2771\u001b[0m         \u001b[0;32mtry\u001b[0m\u001b[0;34m:\u001b[0m\u001b[0;34m\u001b[0m\u001b[0;34m\u001b[0m\u001b[0m\n\u001b[0;32m-> 2772\u001b[0;31m             \u001b[0mmode\u001b[0m\u001b[0;34m,\u001b[0m \u001b[0mrawmode\u001b[0m \u001b[0;34m=\u001b[0m \u001b[0m_fromarray_typemap\u001b[0m\u001b[0;34m[\u001b[0m\u001b[0mtypekey\u001b[0m\u001b[0;34m]\u001b[0m\u001b[0;34m\u001b[0m\u001b[0;34m\u001b[0m\u001b[0m\n\u001b[0m\u001b[1;32m   2773\u001b[0m         \u001b[0;32mexcept\u001b[0m \u001b[0mKeyError\u001b[0m \u001b[0;32mas\u001b[0m \u001b[0me\u001b[0m\u001b[0;34m:\u001b[0m\u001b[0;34m\u001b[0m\u001b[0;34m\u001b[0m\u001b[0m\n",
      "\u001b[0;31mKeyError\u001b[0m: ((1, 1, 224), '<i4')",
      "\nThe above exception was the direct cause of the following exception:\n",
      "\u001b[0;31mTypeError\u001b[0m                                 Traceback (most recent call last)",
      "\u001b[0;32m<ipython-input-61-88018b573009>\u001b[0m in \u001b[0;36m<module>\u001b[0;34m\u001b[0m\n\u001b[0;32m----> 1\u001b[0;31m \u001b[0mImage\u001b[0m\u001b[0;34m.\u001b[0m\u001b[0mfromarray\u001b[0m\u001b[0;34m(\u001b[0m\u001b[0mimage_unnormalize\u001b[0m\u001b[0;34m(\u001b[0m\u001b[0mimg\u001b[0m\u001b[0;34m[\u001b[0m\u001b[0mit\u001b[0m\u001b[0;34m]\u001b[0m\u001b[0;34m)\u001b[0m\u001b[0;34m)\u001b[0m\u001b[0;34m\u001b[0m\u001b[0;34m\u001b[0m\u001b[0m\n\u001b[0m",
      "\u001b[0;32m/opt/conda/lib/python3.8/site-packages/PIL/Image.py\u001b[0m in \u001b[0;36mfromarray\u001b[0;34m(obj, mode)\u001b[0m\n\u001b[1;32m   2772\u001b[0m             \u001b[0mmode\u001b[0m\u001b[0;34m,\u001b[0m \u001b[0mrawmode\u001b[0m \u001b[0;34m=\u001b[0m \u001b[0m_fromarray_typemap\u001b[0m\u001b[0;34m[\u001b[0m\u001b[0mtypekey\u001b[0m\u001b[0;34m]\u001b[0m\u001b[0;34m\u001b[0m\u001b[0;34m\u001b[0m\u001b[0m\n\u001b[1;32m   2773\u001b[0m         \u001b[0;32mexcept\u001b[0m \u001b[0mKeyError\u001b[0m \u001b[0;32mas\u001b[0m \u001b[0me\u001b[0m\u001b[0;34m:\u001b[0m\u001b[0;34m\u001b[0m\u001b[0;34m\u001b[0m\u001b[0m\n\u001b[0;32m-> 2774\u001b[0;31m             \u001b[0;32mraise\u001b[0m \u001b[0mTypeError\u001b[0m\u001b[0;34m(\u001b[0m\u001b[0;34m\"Cannot handle this data type: %s, %s\"\u001b[0m \u001b[0;34m%\u001b[0m \u001b[0mtypekey\u001b[0m\u001b[0;34m)\u001b[0m \u001b[0;32mfrom\u001b[0m \u001b[0me\u001b[0m\u001b[0;34m\u001b[0m\u001b[0;34m\u001b[0m\u001b[0m\n\u001b[0m\u001b[1;32m   2775\u001b[0m     \u001b[0;32melse\u001b[0m\u001b[0;34m:\u001b[0m\u001b[0;34m\u001b[0m\u001b[0;34m\u001b[0m\u001b[0m\n\u001b[1;32m   2776\u001b[0m         \u001b[0mrawmode\u001b[0m \u001b[0;34m=\u001b[0m \u001b[0mmode\u001b[0m\u001b[0;34m\u001b[0m\u001b[0;34m\u001b[0m\u001b[0m\n",
      "\u001b[0;31mTypeError\u001b[0m: Cannot handle this data type: (1, 1, 224), <i4"
     ]
    }
   ],
   "source": [
    "Image.fromarray(image_unnormalize(img[it]))"
   ]
  },
  {
   "cell_type": "code",
   "execution_count": 71,
   "id": "ac41dac2",
   "metadata": {
    "ExecuteTime": {
     "end_time": "2022-03-03T19:08:22.573807Z",
     "start_time": "2022-03-03T19:08:22.564815Z"
    }
   },
   "outputs": [],
   "source": [
    "def normalize(img):\n",
    "    img = img- torch.min(img)\n",
    "    img /= (torch.max(img) + 0.01)\n",
    "    img = img* 255\n",
    "    return img.int()\n",
    "\n",
    "def change_format(img):\n",
    "    return torch.cat((img[2].unsqueeze(-1), img[1].unsqueeze(-1), img[0].unsqueeze(-1)), dim=-1)\n",
    "\n",
    "def image_unnormalize(img):\n",
    "    img = normalize(img)\n",
    "    img = change_format(img).cpu().detach().numpy().reshape(224,224,3)\n",
    "    return img\n"
   ]
  },
  {
   "cell_type": "code",
   "execution_count": 30,
   "id": "0528a750",
   "metadata": {
    "ExecuteTime": {
     "end_time": "2022-03-03T18:55:10.811732Z",
     "start_time": "2022-03-03T18:55:10.774354Z"
    }
   },
   "outputs": [
    {
     "data": {
      "text/plain": [
       "torch.Size([3, 224, 224])"
      ]
     },
     "execution_count": 30,
     "metadata": {},
     "output_type": "execute_result"
    }
   ],
   "source": [
    "from matplotlib import pyplot as plt\n",
    "normalize(img[0]).shape"
   ]
  },
  {
   "cell_type": "code",
   "execution_count": 40,
   "id": "ec0c9bc5",
   "metadata": {
    "ExecuteTime": {
     "end_time": "2022-03-03T18:57:41.503853Z",
     "start_time": "2022-03-03T18:57:41.334307Z"
    }
   },
   "outputs": [
    {
     "data": {
      "text/plain": [
       "<matplotlib.image.AxesImage at 0x7f8420c379a0>"
      ]
     },
     "execution_count": 40,
     "metadata": {},
     "output_type": "execute_result"
    },
    {
     "data": {
      "image/png": "[encoded data removed]",
      "text/plain": [
       "<Figure size 432x288 with 1 Axes>"
      ]
     },
     "metadata": {
      "needs_background": "light"
     },
     "output_type": "display_data"
    }
   ],
   "source": [
    "\n",
    "plt.imshow(image_unnormalize(img[2]))\n"
   ]
  },
  {
   "cell_type": "code",
   "execution_count": null,
   "id": "b3be00ad",
   "metadata": {},
   "outputs": [],
   "source": []
  }
 ],
 "metadata": {
  "kernelspec": {
   "display_name": "Python 3",
   "language": "python",
   "name": "python3"
  },
  "language_info": {
   "codemirror_mode": {
    "name": "ipython",
    "version": 3
   },
   "file_extension": ".py",
   "mimetype": "text/x-python",
   "name": "python",
   "nbconvert_exporter": "python",
   "pygments_lexer": "ipython3",
   "version": "3.8.10"
  },
  "toc": {
   "base_numbering": 1,
   "nav_menu": {},
   "number_sections": false,
   "sideBar": true,
   "skip_h1_title": false,
   "title_cell": "Table of Contents",
   "title_sidebar": "Contents",
   "toc_cell": false,
   "toc_position": {},
   "toc_section_display": true,
   "toc_window_display": false
  }
 },
 "nbformat": 4,
 "nbformat_minor": 5
}
