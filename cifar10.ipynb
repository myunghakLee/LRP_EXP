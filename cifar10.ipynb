{
 "cells": [
  {
   "cell_type": "code",
   "execution_count": 1,
   "id": "fea9e161",
   "metadata": {
    "ExecuteTime": {
     "end_time": "2022-03-03T03:51:10.611064Z",
     "start_time": "2022-03-03T03:51:09.513828Z"
    }
   },
   "outputs": [
    {
     "name": "stdout",
     "output_type": "stream",
     "text": [
      "cuda\n"
     ]
    }
   ],
   "source": [
    "import torch\n",
    "import torch.nn as nn\n",
    "import torch.nn.functional as F\n",
    "import torchvision\n",
    "import torchvision.transforms as transforms\n",
    "from torchvision import models\n",
    "import numpy as np\n",
    "import pandas as pd\n",
    "import matplotlib.pyplot as plt\n",
    "import seaborn as sns\n",
    "device = torch.device(\"cuda\" if torch.cuda.is_available() else \"cpu\")\n",
    "print(device)\n",
    "num_epochs = 50\n",
    "batch_size = 40\n",
    "learning_rate = 0.001\n",
    "classes = ('plane', 'car' , 'bird',\n",
    "    'cat', 'deer', 'dog',\n",
    "    'frog', 'horse', 'ship', 'truck')"
   ]
  },
  {
   "cell_type": "code",
   "execution_count": 2,
   "id": "2a05d248",
   "metadata": {
    "ExecuteTime": {
     "end_time": "2022-03-03T03:51:13.325682Z",
     "start_time": "2022-03-03T03:51:11.889373Z"
    }
   },
   "outputs": [
    {
     "name": "stdout",
     "output_type": "stream",
     "text": [
      "Files already downloaded and verified\n",
      "Files already downloaded and verified\n"
     ]
    }
   ],
   "source": [
    "transform = transforms.Compose([\n",
    "    transforms.Resize(size=(224, 224)),\n",
    "    transforms.ToTensor(),\n",
    "    transforms.Normalize( \n",
    "       (0.4914, 0.4822, 0.4465), (0.2023, 0.1994, 0.2010) \n",
    "    )\n",
    "])\n",
    "train_dataset = torchvision.datasets.CIFAR10(\n",
    "    root= './data', train = True,\n",
    "    download =True, transform = transform)\n",
    "test_dataset = torchvision.datasets.CIFAR10(\n",
    "    root= './data', train = False,\n",
    "    download =True, transform = transform)\n"
   ]
  },
  {
   "cell_type": "code",
   "execution_count": 3,
   "id": "4bb75690",
   "metadata": {
    "ExecuteTime": {
     "end_time": "2022-03-03T03:51:14.100175Z",
     "start_time": "2022-03-03T03:51:14.092925Z"
    }
   },
   "outputs": [
    {
     "name": "stdout",
     "output_type": "stream",
     "text": [
      "1250\n"
     ]
    }
   ],
   "source": [
    "train_loader = torch.utils.data.DataLoader(train_dataset\n",
    "    , batch_size = batch_size\n",
    "    , shuffle = True)\n",
    "test_loader = torch.utils.data.DataLoader(test_dataset\n",
    "    , batch_size = batch_size\n",
    "    , shuffle = True)\n",
    "n_total_step = len(train_loader)\n",
    "print(n_total_step)\n"
   ]
  },
  {
   "cell_type": "code",
   "execution_count": 4,
   "id": "0b6c3c3e",
   "metadata": {
    "ExecuteTime": {
     "end_time": "2022-03-03T03:51:19.236988Z",
     "start_time": "2022-03-03T03:51:14.316153Z"
    }
   },
   "outputs": [],
   "source": [
    "model = models.vgg16(pretrained = True)\n",
    "input_lastLayer = model.classifier[6].in_features\n",
    "model.classifier[6] = nn.Linear(input_lastLayer,10)\n",
    "model = model.to(device)\n",
    "criterion = nn.CrossEntropyLoss()\n",
    "optimizer = torch.optim.SGD(model.parameters(), lr = learning_rate, momentum=0.9,weight_decay=5e-4)\n"
   ]
  },
  {
   "cell_type": "code",
   "execution_count": null,
   "id": "f003b4db",
   "metadata": {
    "ExecuteTime": {
     "start_time": "2022-03-03T04:19:42.310Z"
    }
   },
   "outputs": [
    {
     "name": "stdout",
     "output_type": "stream",
     "text": [
      "epoch 1/50, step: 250/1250: loss = 0.00373, acc = 98.33%\n",
      "epoch 1/50, step: 500/1250: loss = 0.05596, acc = 98.18%\n",
      "epoch 1/50, step: 750/1250: loss = 0.00846, acc = 98.26%\n",
      "epoch 1/50, step: 1000/1250: loss = 0.06025, acc = 98.20%\n",
      "epoch 1/50, step: 1250/1250: loss = 0.05709, acc = 98.17%\n",
      "Overall accuracy 93.01%\n",
      "\n",
      "epoch 2/50, step: 250/1250: loss = 0.00366, acc = 98.81%\n",
      "epoch 2/50, step: 500/1250: loss = 0.02817, acc = 98.72%\n",
      "epoch 2/50, step: 750/1250: loss = 0.01343, acc = 98.63%\n",
      "epoch 2/50, step: 1000/1250: loss = 0.21016, acc = 98.63%\n",
      "epoch 2/50, step: 1250/1250: loss = 0.00493, acc = 98.65%\n",
      "Overall accuracy 91.82000000000001%\n",
      "\n",
      "epoch 3/50, step: 250/1250: loss = 0.00132, acc = 99.45%\n",
      "epoch 3/50, step: 500/1250: loss = 0.04039, acc = 99.22%\n",
      "epoch 3/50, step: 750/1250: loss = 0.01815, acc = 99.13%\n",
      "epoch 3/50, step: 1000/1250: loss = 0.05095, acc = 99.11%\n",
      "epoch 3/50, step: 1250/1250: loss = 0.00884, acc = 99.07%\n",
      "Overall accuracy 92.88%\n",
      "\n",
      "epoch 4/50, step: 250/1250: loss = 0.01476, acc = 99.70%\n",
      "epoch 4/50, step: 500/1250: loss = 0.00111, acc = 99.52%\n",
      "epoch 4/50, step: 750/1250: loss = 0.00147, acc = 99.40%\n",
      "epoch 4/50, step: 1000/1250: loss = 0.00196, acc = 99.34%\n",
      "epoch 4/50, step: 1250/1250: loss = 0.00378, acc = 99.30%\n",
      "Overall accuracy 92.31%\n",
      "\n",
      "epoch 5/50, step: 250/1250: loss = 0.01897, acc = 99.51%\n",
      "epoch 5/50, step: 500/1250: loss = 0.00549, acc = 99.45%\n",
      "epoch 5/50, step: 750/1250: loss = 0.00161, acc = 99.42%\n",
      "epoch 5/50, step: 1000/1250: loss = 0.00302, acc = 99.37%\n",
      "epoch 5/50, step: 1250/1250: loss = 0.02137, acc = 99.29%\n",
      "Overall accuracy 92.32000000000001%\n",
      "\n",
      "epoch 6/50, step: 250/1250: loss = 0.00498, acc = 99.45%\n",
      "epoch 6/50, step: 500/1250: loss = 0.01107, acc = 99.47%\n",
      "epoch 6/50, step: 750/1250: loss = 0.09580, acc = 99.42%\n",
      "epoch 6/50, step: 1000/1250: loss = 0.00082, acc = 99.46%\n",
      "epoch 6/50, step: 1250/1250: loss = 0.00423, acc = 99.43%\n",
      "Overall accuracy 93.11%\n",
      "\n",
      "epoch 7/50, step: 250/1250: loss = 0.04490, acc = 99.73%\n"
     ]
    }
   ],
   "source": [
    "for epoch in range(num_epochs):\n",
    "    n_corrects = 0\n",
    "    n_labels = 0\n",
    "    for i, (imgs , labels) in enumerate(train_loader):\n",
    "        imgs = imgs.to(device)\n",
    "        labels = labels.to(device)\n",
    "\n",
    "        labels_hat = model(imgs)\n",
    "        loss_value = criterion(labels_hat, labels)\n",
    "        loss_value.backward()\n",
    "        optimizer.step()\n",
    "        optimizer.zero_grad()\n",
    "        \n",
    "        n_labels += labels.size(0)\n",
    "        n_corrects += (labels_hat.argmax(axis=1)==labels).sum().item()\n",
    "        \n",
    "        if (i+1) % 250 == 0:\n",
    "            print(f'epoch {epoch+1}/{num_epochs}, step: {i+1}/{n_total_step}: loss = {loss_value:.5f}, acc = {100*(n_corrects/n_labels):.2f}%')\n",
    "            \n",
    "    with torch.no_grad():\n",
    "        number_corrects = 0\n",
    "        number_samples = 0\n",
    "        for i, (test_images_set , test_labels_set) in enumerate(test_loader):\n",
    "            test_images_set = test_images_set.to(device)\n",
    "            test_labels_set = test_labels_set.to(device)\n",
    "\n",
    "            y_predicted = model(test_images_set)\n",
    "            labels_predicted = y_predicted.argmax(axis = 1)\n",
    "            number_corrects += (labels_predicted==test_labels_set).sum().item()\n",
    "            number_samples += test_labels_set.size(0)\n",
    "        print(f'Overall accuracy {(number_corrects / number_samples)*100}%')\n",
    "        print()\n"
   ]
  },
  {
   "cell_type": "code",
   "execution_count": 7,
   "id": "1b62e952",
   "metadata": {
    "ExecuteTime": {
     "end_time": "2022-03-02T15:44:09.083326Z",
     "start_time": "2022-03-02T15:44:08.576597Z"
    }
   },
   "outputs": [],
   "source": [
    "model = torch.load(\"cifar-10.pth\")"
   ]
  },
  {
   "cell_type": "code",
   "execution_count": 8,
   "id": "5ccd3c78",
   "metadata": {
    "ExecuteTime": {
     "end_time": "2022-03-02T15:44:37.154395Z",
     "start_time": "2022-03-02T15:44:12.220106Z"
    }
   },
   "outputs": [
    {
     "name": "stdout",
     "output_type": "stream",
     "text": [
      "Overall accuracy 93.07%\n"
     ]
    }
   ],
   "source": [
    "with torch.no_grad():\n",
    "    number_corrects = 0\n",
    "    number_samples = 0\n",
    "    for i, (test_images_set , test_labels_set) in enumerate(test_loader):\n",
    "        test_images_set = test_images_set.to(device)\n",
    "        test_labels_set = test_labels_set.to(device)\n",
    "    \n",
    "        y_predicted = model(test_images_set)\n",
    "        labels_predicted = y_predicted.argmax(axis = 1)\n",
    "        number_corrects += (labels_predicted==test_labels_set).sum().item()\n",
    "        number_samples += test_labels_set.size(0)\n",
    "    print(f'Overall accuracy {(number_corrects / number_samples)*100}%')"
   ]
  },
  {
   "cell_type": "code",
   "execution_count": 6,
   "id": "725a98d1",
   "metadata": {
    "ExecuteTime": {
     "end_time": "2022-03-02T15:43:40.134142Z",
     "start_time": "2022-03-02T15:43:14.041340Z"
    }
   },
   "outputs": [
    {
     "name": "stdout",
     "output_type": "stream",
     "text": [
      "Overall accuracy 92.74%\n"
     ]
    }
   ],
   "source": [
    "with torch.no_grad():\n",
    "    number_corrects = 0\n",
    "    number_samples = 0\n",
    "    for i, (test_images_set , test_labels_set) in enumerate(test_loader):\n",
    "        test_images_set = test_images_set.to(device)\n",
    "        test_labels_set = test_labels_set.to(device)\n",
    "    \n",
    "        y_predicted = model(test_images_set)\n",
    "        labels_predicted = y_predicted.argmax(axis = 1)\n",
    "        number_corrects += (labels_predicted==test_labels_set).sum().item()\n",
    "        number_samples += test_labels_set.size(0)\n",
    "    print(f'Overall accuracy {(number_corrects / number_samples)*100}%')"
   ]
  },
  {
   "cell_type": "code",
   "execution_count": 9,
   "id": "2a894143",
   "metadata": {
    "ExecuteTime": {
     "end_time": "2022-03-02T01:16:34.504870Z",
     "start_time": "2022-03-02T01:14:26.582274Z"
    }
   },
   "outputs": [
    {
     "name": "stdout",
     "output_type": "stream",
     "text": [
      "Overall accuracy 98.934%\n"
     ]
    }
   ],
   "source": [
    "with torch.no_grad():\n",
    "    number_corrects = 0\n",
    "    number_samples = 0\n",
    "    for i, (test_images_set , test_labels_set) in enumerate(train_loader):\n",
    "        test_images_set = test_images_set.to(device)\n",
    "        test_labels_set = test_labels_set.to(device)\n",
    "    \n",
    "        y_predicted = model(test_images_set)\n",
    "        labels_predicted = y_predicted.argmax(axis = 1)\n",
    "        number_corrects += (labels_predicted==test_labels_set).sum().item()\n",
    "        number_samples += test_labels_set.size(0)\n",
    "    print(f'Overall accuracy {(number_corrects / number_samples)*100}%')"
   ]
  },
  {
   "cell_type": "code",
   "execution_count": 12,
   "id": "a4b86806",
   "metadata": {
    "ExecuteTime": {
     "end_time": "2022-03-02T09:39:26.572207Z",
     "start_time": "2022-03-02T09:39:25.311062Z"
    }
   },
   "outputs": [],
   "source": [
    "torch.save(model, \"cifar-10.pth\")\n"
   ]
  },
  {
   "cell_type": "code",
   "execution_count": null,
   "id": "604b88a7",
   "metadata": {},
   "outputs": [],
   "source": []
  }
 ],
 "metadata": {
  "kernelspec": {
   "display_name": "Python 3",
   "language": "python",
   "name": "python3"
  },
  "language_info": {
   "codemirror_mode": {
    "name": "ipython",
    "version": 3
   },
   "file_extension": ".py",
   "mimetype": "text/x-python",
   "name": "python",
   "nbconvert_exporter": "python",
   "pygments_lexer": "ipython3",
   "version": "3.8.10"
  },
  "toc": {
   "base_numbering": 1,
   "nav_menu": {},
   "number_sections": false,
   "sideBar": true,
   "skip_h1_title": false,
   "title_cell": "Table of Contents",
   "title_sidebar": "Contents",
   "toc_cell": false,
   "toc_position": {},
   "toc_section_display": true,
   "toc_window_display": false
  }
 },
 "nbformat": 4,
 "nbformat_minor": 5
}
