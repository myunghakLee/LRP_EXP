{
 "cells": [
  {
   "cell_type": "code",
   "execution_count": 1,
   "id": "8934655e",
   "metadata": {
    "ExecuteTime": {
     "end_time": "2022-03-03T01:52:04.285084Z",
     "start_time": "2022-03-03T01:52:03.126229Z"
    }
   },
   "outputs": [
    {
     "name": "stdout",
     "output_type": "stream",
     "text": [
      "cuda\n"
     ]
    }
   ],
   "source": [
    "import torch\n",
    "import torch.nn as nn\n",
    "import torch.nn.functional as F\n",
    "import torchvision\n",
    "import torchvision.transforms as transforms\n",
    "from torchvision import models\n",
    "import numpy as np\n",
    "import pandas as pd\n",
    "import matplotlib.pyplot as plt\n",
    "import seaborn as sns\n",
    "device = torch.device(\"cuda\" if torch.cuda.is_available() else \"cpu\")\n",
    "print(device)\n",
    "num_epochs = 5\n",
    "batch_size = 40\n",
    "learning_rate = 0.001\n",
    "classes = ('plane', 'car' , 'bird',\n",
    "    'cat', 'deer', 'dog',\n",
    "    'frog', 'horse', 'ship', 'truck')"
   ]
  },
  {
   "cell_type": "code",
   "execution_count": 2,
   "id": "024626b8",
   "metadata": {
    "ExecuteTime": {
     "end_time": "2022-03-03T01:52:10.980889Z",
     "start_time": "2022-03-03T01:52:09.469567Z"
    }
   },
   "outputs": [
    {
     "name": "stdout",
     "output_type": "stream",
     "text": [
      "Files already downloaded and verified\n",
      "Files already downloaded and verified\n"
     ]
    }
   ],
   "source": [
    "transform = transforms.Compose([\n",
    "    transforms.Resize(size=(224, 224)),\n",
    "    transforms.ToTensor(),\n",
    "    transforms.Normalize( \n",
    "       (0.4914, 0.4822, 0.4465), (0.2023, 0.1994, 0.2010) \n",
    "    )\n",
    "])\n",
    "train_dataset = torchvision.datasets.CIFAR10(\n",
    "    root= './data', train = True,\n",
    "    download =True, transform = transform)\n",
    "test_dataset = torchvision.datasets.CIFAR10(\n",
    "    root= './data', train = False,\n",
    "    download =True, transform = transform)\n"
   ]
  },
  {
   "cell_type": "code",
   "execution_count": null,
   "id": "53e3e680",
   "metadata": {},
   "outputs": [],
   "source": [
    "def lrp_normalize(model, dataset, std = 0.01):\n",
    "    optimizer = torch.optim.SGD(model.parameters(), lr = 0.0, momentum=0.9,weight_decay=5e-4)\n",
    "    criterion = nn.CrossEntropyLoss()\n",
    "\n",
    "    f2 = lambda w, _=None: softmax2d(normalize_max1(-w)) * len(w[0])\n",
    "    \n",
    "    correct, all = 0,0\n",
    "    for idx, batch in enumerate(tqdm(dataset)):\n",
    "        img , label = batch[0].cuda(), batch[1].cuda()\n",
    "\n",
    "#         return img, label\n",
    "        img.requires_grad = True\n",
    "        img.retain_grad = True\n",
    "        \n",
    "        fake_label = torch.ones_like(label)\n",
    "        \n",
    "        output = model(img)\n",
    "        output_arg = torch.argmax(output, dim=1)\n",
    "        fake_label = (fake_label + output_arg) % 1000\n",
    "        \n",
    "        loss = criterion(output, label)\n",
    "        loss.backward()\n",
    "#         torch.sum(output).backward()\n",
    "        optimizer.zero_grad()\n",
    "        \n",
    "        img_lrp = img*img.grad\n",
    "        img_lrp = f2(img_lrp)\n",
    "        with torch.no_grad():\n",
    "            for i in range(len(img_lrp)):\n",
    "                img_lrp[i] = to_gaussian(img_lrp[i], std = std)\n",
    "            \n",
    "            img = img*img_lrp # img_lrp가 음수값인것 지움\n",
    "            output = model(img)\n",
    "        \n",
    "            all += len(label)\n",
    "            correct += sum(label == torch.argmax(output, dim=1))\n",
    "        \n",
    "    print('Accuracy : %.4f' % (correct/all))\n",
    "    return img, img.grad\n",
    "    "
   ]
  }
 ],
 "metadata": {
  "kernelspec": {
   "display_name": "Python 3",
   "language": "python",
   "name": "python3"
  },
  "language_info": {
   "codemirror_mode": {
    "name": "ipython",
    "version": 3
   },
   "file_extension": ".py",
   "mimetype": "text/x-python",
   "name": "python",
   "nbconvert_exporter": "python",
   "pygments_lexer": "ipython3",
   "version": "3.8.10"
  },
  "toc": {
   "base_numbering": 1,
   "nav_menu": {},
   "number_sections": false,
   "sideBar": true,
   "skip_h1_title": false,
   "title_cell": "Table of Contents",
   "title_sidebar": "Contents",
   "toc_cell": false,
   "toc_position": {},
   "toc_section_display": true,
   "toc_window_display": false
  }
 },
 "nbformat": 4,
 "nbformat_minor": 5
}
