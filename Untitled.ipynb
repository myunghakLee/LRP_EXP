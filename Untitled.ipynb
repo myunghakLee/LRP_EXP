{
 "cells": [
  {
   "cell_type": "code",
   "execution_count": 59,
   "id": "88c85113",
   "metadata": {
    "ExecuteTime": {
     "end_time": "2022-02-23T02:42:30.436239Z",
     "start_time": "2022-02-23T02:42:30.421192Z"
    }
   },
   "outputs": [],
   "source": [
    "import torch\n",
    "import torchvision\n",
    "import torch.nn as nn\n",
    "import torch.nn.functional as F\n",
    "import torchvision.transforms as transforms\n",
    "\n",
    "\n",
    "class Net(nn.Module):\n",
    "    def __init__(self):\n",
    "        super().__init__()\n",
    "        self.conv1 = nn.Conv2d(3, 6, 5)\n",
    "        self.pool = nn.MaxPool2d(2, 2)\n",
    "        self.conv2 = nn.Conv2d(6, 16, 5)\n",
    "        self.fc1 = nn.Linear(16 * 5 * 5, 120)\n",
    "        self.fc2 = nn.Linear(120, 84)\n",
    "        self.fc3 = nn.Linear(84, 10)\n",
    "\n",
    "    def forward(self, x):\n",
    "        x = self.pool(F.relu(self.conv1(x)))\n",
    "        x = self.pool(F.relu(self.conv2(x)))\n",
    "        x = torch.flatten(x, 1) # flatten all dimensions except batch\n",
    "        assert False, \"SS\"\n",
    "        x = F.relu(self.fc1(x))\n",
    "        x = F.relu(self.fc2(x))\n",
    "        x = self.fc3(x)\n",
    "        return x\n",
    "\n",
    "\n",
    "net = Net()"
   ]
  },
  {
   "cell_type": "code",
   "execution_count": 138,
   "id": "8f76467c",
   "metadata": {
    "ExecuteTime": {
     "end_time": "2022-02-23T03:34:31.453576Z",
     "start_time": "2022-02-23T03:34:31.426848Z"
    }
   },
   "outputs": [],
   "source": [
    "import torch\n",
    "import torchvision\n",
    "import torch.nn as nn\n",
    "import torch.nn.functional as F\n",
    "import torchvision.transforms as transforms\n",
    "\n",
    "\n",
    "class Net(nn.Module):\n",
    "    def __init__(self):\n",
    "        super().__init__()\n",
    "        self.pool = nn.MaxPool2d(2, 2)\n",
    "\n",
    "        \n",
    "        self.conv1 = nn.Conv2d(3, 6, 3, padding=1)\n",
    "        self.BM1 = nn.BatchNorm2d(6)\n",
    "        self.conv2 = nn.Conv2d(6, 16, 3, padding=1)\n",
    "        self.BM2 = nn.BatchNorm2d(16)\n",
    "        self.conv3 = nn.Conv2d(16, 16, 3, padding=1)\n",
    "        self.BM3 = nn.BatchNorm2d(16)\n",
    "        self.conv4 = nn.Conv2d(16, 16, 3, padding=1)\n",
    "        self.BM4 = nn.BatchNorm2d(16)\n",
    "        self.conv5 = nn.Conv2d(16, 16, 3, padding=1)\n",
    "        self.BM5 = nn.BatchNorm2d(16)\n",
    "        self.conv6 = nn.Conv2d(16, 16, 3, padding=1)\n",
    "        self.BM6 = nn.BatchNorm2d(16)\n",
    "        self.conv7 = nn.Conv2d(16, 16, 3, padding=1)\n",
    "        self.BM7 = nn.BatchNorm2d(16)\n",
    "        \n",
    "        self.fc1 = nn.Linear(32 * 32 * 16, 60)\n",
    "        self.BM8 = nn.BatchNorm1d(60)\n",
    "        self.fc2 = nn.Linear(60, 10)\n",
    "        \n",
    "        self.drop_out = nn.Dropout(p=0.2)\n",
    "\n",
    "    def forward(self, x):\n",
    "        x = F.relu(self.BM1(self.conv1(x)))\n",
    "        x = F.relu(self.BM2(self.conv2(x)))\n",
    "        x = F.relu(self.BM3(self.conv3(x)))\n",
    "        x = F.relu(self.BM4(self.conv4(x)))\n",
    "        x = F.relu(self.BM5(self.conv5(x)))\n",
    "        x = F.relu(self.BM6(self.conv6(x)))\n",
    "        x = F.relu(self.BM7(self.conv7(x)))\n",
    "        x = torch.flatten(x, 1) # flatten all dimensions except batch\n",
    "#         x = F.relu(self.BM8(self.fc1(x)))\n",
    "        x = self.drop_out(F.relu(self.BM8(self.fc1(x))))\n",
    "        x = self.fc2(x)\n",
    "        \n",
    "        return x\n",
    "\n",
    "\n",
    "net = Net()"
   ]
  },
  {
   "cell_type": "code",
   "execution_count": 139,
   "id": "22f728cf",
   "metadata": {
    "ExecuteTime": {
     "end_time": "2022-02-23T03:34:31.578258Z",
     "start_time": "2022-02-23T03:34:31.574600Z"
    }
   },
   "outputs": [],
   "source": [
    "import torch.optim as optim\n",
    "\n",
    "criterion = nn.CrossEntropyLoss()\n",
    "optimizer = optim.SGD(net.parameters(), lr=0.001, momentum=0.9)"
   ]
  },
  {
   "cell_type": "code",
   "execution_count": 140,
   "id": "7c8727d5",
   "metadata": {
    "ExecuteTime": {
     "end_time": "2022-02-23T03:34:33.183842Z",
     "start_time": "2022-02-23T03:34:31.724998Z"
    }
   },
   "outputs": [
    {
     "name": "stdout",
     "output_type": "stream",
     "text": [
      "Files already downloaded and verified\n",
      "Files already downloaded and verified\n"
     ]
    }
   ],
   "source": [
    "transform = transforms.Compose(\n",
    "    [transforms.ToTensor(),\n",
    "     transforms.Normalize((0.5, 0.5, 0.5), (0.5, 0.5, 0.5))])\n",
    "\n",
    "batch_size = 256\n",
    "\n",
    "trainset = torchvision.datasets.CIFAR10(root='./data', train=True,\n",
    "                                        download=True, transform=transform)\n",
    "trainloader = torch.utils.data.DataLoader(trainset, batch_size=batch_size,\n",
    "                                          shuffle=True, num_workers=2)\n",
    "\n",
    "testset = torchvision.datasets.CIFAR10(root='./data', train=False,\n",
    "                                       download=True, transform=transform)\n",
    "testloader = torch.utils.data.DataLoader(testset, batch_size=batch_size,\n",
    "                                         shuffle=False, num_workers=2)\n",
    "\n",
    "classes = ('plane', 'car', 'bird', 'cat',\n",
    "           'deer', 'dog', 'frog', 'horse', 'ship', 'truck')"
   ]
  },
  {
   "cell_type": "code",
   "execution_count": 141,
   "id": "ef7f81bf",
   "metadata": {
    "ExecuteTime": {
     "end_time": "2022-02-23T03:35:29.555316Z",
     "start_time": "2022-02-23T03:34:40.996732Z"
    }
   },
   "outputs": [
    {
     "name": "stdout",
     "output_type": "stream",
     "text": [
      "acc: 0.367\n",
      "acc: 0.444\n",
      "\n",
      "acc: 0.492\n",
      "acc: 0.512\n",
      "\n",
      "acc: 0.553\n",
      "acc: 0.542\n",
      "\n",
      "acc: 0.595\n",
      "acc: 0.571\n",
      "\n",
      "acc: 0.631\n",
      "acc: 0.582\n",
      "\n",
      "acc: 0.660\n",
      "acc: 0.591\n",
      "\n",
      "acc: 0.693\n",
      "acc: 0.601\n",
      "\n",
      "acc: 0.722\n",
      "acc: 0.600\n",
      "\n",
      "acc: 0.753\n",
      "acc: 0.597\n",
      "\n",
      "acc: 0.780\n",
      "acc: 0.593\n",
      "\n",
      "Finished Training\n"
     ]
    }
   ],
   "source": [
    "net = net.cuda()\n",
    "\n",
    "for epoch in range(10):  # loop over the dataset multiple times\n",
    "\n",
    "    running_loss = 0.0\n",
    "    data_length = 0\n",
    "    correct = 0\n",
    "    for i, data in enumerate(trainloader, 0):\n",
    "        # get the inputs; data is a list of [inputs, labels]\n",
    "        inputs, labels = data[0].cuda(), data[1].cuda()\n",
    "        inputs.requires_grad = True\n",
    "\n",
    "        # zero the parameter gradients\n",
    "        optimizer.zero_grad()\n",
    "\n",
    "        # forward + backward + optimize\n",
    "        outputs = net(inputs)\n",
    "        \n",
    "        \n",
    "        loss = criterion(outputs, labels)\n",
    "        loss.backward()\n",
    "        correct += torch.sum(torch.argmax(outputs, dim=1) == labels)\n",
    "        data_length += len(labels)        \n",
    "        \n",
    "#         print(\"inputs_grad: \", inputs.grad)\n",
    "        optimizer.step()\n",
    "#         print(net.conv1.weight.grad)\n",
    "\n",
    "        # print statistics\n",
    "        running_loss += loss.item()\n",
    "\n",
    "    print(f'acc: {correct / data_length:.3f}')\n",
    "        \n",
    "        \n",
    "        \n",
    "    data_length = 0\n",
    "    correct = 0\n",
    "    for i, data in enumerate(testloader, 0):\n",
    "            with torch.no_grad():\n",
    "\n",
    "                # get the inputs; data is a list of [inputs, labels]\n",
    "                inputs, labels = data[0].cuda(), data[1].cuda()\n",
    "\n",
    "                # forward + backward + optimize\n",
    "                outputs = net(inputs)\n",
    "                correct += torch.sum(torch.argmax(outputs, dim=1) == labels)\n",
    "                data_length += len(labels)\n",
    "        \n",
    "        \n",
    "    print(f'acc: {correct / data_length:.3f}\\n')\n",
    "    running_loss = 0.0\n",
    "    \n",
    "    \n",
    "\n",
    "\n",
    "print('Finished Training')"
   ]
  },
  {
   "cell_type": "code",
   "execution_count": 120,
   "id": "878298d8",
   "metadata": {
    "ExecuteTime": {
     "end_time": "2022-02-23T03:30:27.495713Z",
     "start_time": "2022-02-23T03:30:26.529435Z"
    }
   },
   "outputs": [
    {
     "name": "stdout",
     "output_type": "stream",
     "text": [
      "acc: 0.582\n"
     ]
    }
   ],
   "source": [
    "data_length = 0\n",
    "correct = 0\n",
    "for i, data in enumerate(testloader, 0):\n",
    "        with torch.no_grad():\n",
    "\n",
    "            # get the inputs; data is a list of [inputs, labels]\n",
    "            inputs, labels = data[0].cuda(), data[1].cuda()\n",
    "\n",
    "            # forward + backward + optimize\n",
    "            outputs = net(inputs)\n",
    "            correct += torch.sum(torch.argmax(outputs, dim=1) == labels)\n",
    "            data_length += len(labels)\n",
    "\n",
    "print(f'acc: {correct / data_length:.3f}')\n"
   ]
  },
  {
   "cell_type": "code",
   "execution_count": null,
   "id": "8a49762d",
   "metadata": {},
   "outputs": [],
   "source": []
  },
  {
   "cell_type": "code",
   "execution_count": null,
   "id": "7dc7370e",
   "metadata": {},
   "outputs": [],
   "source": []
  }
 ],
 "metadata": {
  "kernelspec": {
   "display_name": "Python 3",
   "language": "python",
   "name": "python3"
  },
  "language_info": {
   "codemirror_mode": {
    "name": "ipython",
    "version": 3
   },
   "file_extension": ".py",
   "mimetype": "text/x-python",
   "name": "python",
   "nbconvert_exporter": "python",
   "pygments_lexer": "ipython3",
   "version": "3.8.10"
  },
  "toc": {
   "base_numbering": 1,
   "nav_menu": {},
   "number_sections": false,
   "sideBar": true,
   "skip_h1_title": false,
   "title_cell": "Table of Contents",
   "title_sidebar": "Contents",
   "toc_cell": false,
   "toc_position": {},
   "toc_section_display": true,
   "toc_window_display": false
  }
 },
 "nbformat": 4,
 "nbformat_minor": 5
}
